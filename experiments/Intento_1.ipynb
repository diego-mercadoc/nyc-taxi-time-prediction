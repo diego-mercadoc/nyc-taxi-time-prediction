{
 "cells": [
  {
   "cell_type": "markdown",
   "metadata": {},
   "source": [
    "## Experimentos con Gradient Boosting y Random Forest"
   ]
  },
  {
   "cell_type": "code",
   "execution_count": 1,
   "metadata": {},
   "outputs": [],
   "source": [
    "import pandas as pd\n",
    "import numpy as np\n",
    "import pickle\n",
    "from sklearn.feature_extraction import DictVectorizer\n",
    "from sklearn.metrics import mean_squared_error\n",
    "from sklearn.model_selection import RandomizedSearchCV\n",
    "from sklearn.ensemble import GradientBoostingRegressor, RandomForestRegressor\n",
    "import mlflow\n",
    "from mlflow import MlflowClient\n",
    "from scipy.stats import randint, uniform"
   ]
  },
  {
   "cell_type": "code",
   "execution_count": 2,
   "metadata": {},
   "outputs": [
    {
     "data": {
      "text/plain": [
       "<Experiment: artifact_location=('file:///c:/Users/diego/OneDrive - ITESO/ITESO/5 semestre/Proyecto de Ciencia '\n",
       " 'de datos/nyc-taxi-time-prediction/experiments/mlruns/1'), creation_time=1726709290057, experiment_id='1', last_update_time=1726709290057, lifecycle_stage='active', name='nyc-taxi-experiment', tags={}>"
      ]
     },
     "execution_count": 2,
     "metadata": {},
     "output_type": "execute_result"
    }
   ],
   "source": [
    "# Configurar el tracking URI de MLflow\n",
    "mlflow.set_tracking_uri(\"sqlite:///mlflow.db\")\n",
    "mlflow.set_experiment(\"nyc-taxi-experiment\")"
   ]
  },
  {
   "cell_type": "code",
   "execution_count": 3,
   "metadata": {},
   "outputs": [],
   "source": [
    "# Cargar los datos de enero y febrero de 2024\n",
    "def read_dataframe(filename):\n",
    "    df = pd.read_parquet(filename)\n",
    "\n",
    "    df['duration'] = df.lpep_dropoff_datetime - df.lpep_pickup_datetime\n",
    "    df['duration'] = df['duration'].dt.total_seconds() / 60\n",
    "\n",
    "    df = df[(df.duration >= 1) & (df.duration <= 60)]\n",
    "\n",
    "    categorical = ['PULocationID', 'DOLocationID']\n",
    "    df[categorical] = df[categorical].astype(str)\n",
    "\n",
    "    return df\n",
    "\n",
    "df_train = read_dataframe('../data/green_tripdata_2024-01.parquet')\n",
    "df_val = read_dataframe('../data/green_tripdata_2024-02.parquet')"
   ]
  },
  {
   "cell_type": "code",
   "execution_count": 4,
   "metadata": {},
   "outputs": [],
   "source": [
    "# Feature Engineering\n",
    "df_train['PU_DO'] = df_train['PULocationID'] + '_' + df_train['DOLocationID']\n",
    "df_val['PU_DO'] = df_val['PULocationID'] + '_' + df_val['DOLocationID']\n",
    "\n",
    "categorical = ['PU_DO']\n",
    "numerical = ['trip_distance']\n",
    "dv = DictVectorizer()\n",
    "\n",
    "train_dicts = df_train[categorical + numerical].to_dict(orient='records')\n",
    "X_train = dv.fit_transform(train_dicts).toarray()\n",
    "y_train = df_train['duration'].values\n",
    "\n",
    "val_dicts = df_val[categorical + numerical].to_dict(orient='records')\n",
    "X_val = dv.transform(val_dicts).toarray()\n",
    "y_val = df_val['duration'].values"
   ]
  },
  {
   "cell_type": "code",
   "execution_count": 5,
   "metadata": {},
   "outputs": [
    {
     "name": "stderr",
     "output_type": "stream",
     "text": [
      "2024/09/18 21:24:46 WARNING mlflow.utils.autologging_utils: MLflow sklearn autologging is known to be compatible with 0.24.1 <= scikit-learn <= 1.5.1, but the installed version is 1.5.2. If you encounter errors during autologging, try upgrading / downgrading scikit-learn to a compatible version, or try upgrading MLflow.\n"
     ]
    }
   ],
   "source": [
    "# Guardar el preprocesador\n",
    "with open(\"preprocessor.b\", \"wb\") as f_out:\n",
    "    pickle.dump(dv, f_out)\n",
    "\n",
    "# Definir las búsquedas de hiperparámetros\n",
    "gb_params = {\n",
    "    'n_estimators': randint(50, 200),\n",
    "    'learning_rate': uniform(0.01, 0.3),\n",
    "    'max_depth': randint(3, 10)\n",
    "}\n",
    "\n",
    "# rf_params = {\n",
    "#     'n_estimators': randint(50, 200),\n",
    "#     'max_depth': randint(3, 20),\n",
    "#     'max_features': ['auto', 'sqrt', 'log2']\n",
    "# }\n",
    "\n",
    "rf_params = {\n",
    "    'n_estimators': randint(50, 200),\n",
    "    'max_depth': randint(3, 20),\n",
    "    'max_features': ['sqrt', 'log2', None]  # Elimina 'auto'\n",
    "}\n",
    "\n",
    "mlflow.sklearn.autolog()"
   ]
  },
  {
   "cell_type": "code",
   "execution_count": 6,
   "metadata": {},
   "outputs": [
    {
     "name": "stderr",
     "output_type": "stream",
     "text": [
      "2024/09/18 21:24:48 WARNING mlflow.sklearn: Failed to log training dataset information to MLflow Tracking. Reason: 'numpy.ndarray' object has no attribute 'toarray'\n",
      "2024/09/18 21:34:03 INFO mlflow.sklearn.utils: Logging the 5 best runs, 5 runs will be omitted.\n",
      "c:\\Users\\diego\\OneDrive - ITESO\\ITESO\\5 semestre\\Proyecto de Ciencia de datos\\nyc-taxi-time-prediction\\.venv\\Lib\\site-packages\\sklearn\\metrics\\_regression.py:492: FutureWarning: 'squared' is deprecated in version 1.4 and will be removed in 1.6. To calculate the root mean squared error, use the function'root_mean_squared_error'.\n",
      "  warnings.warn(\n",
      "2024/09/18 21:34:07 WARNING mlflow.models.model: Model logged without a signature and input example. Please set `input_example` parameter when logging the model to auto infer the model signature.\n"
     ]
    }
   ],
   "source": [
    "# Experimento con Gradient Boosting Regressor\n",
    "with mlflow.start_run(run_name=\"GradientBoostingRegressor\") as parent_run:\n",
    "    mlflow.set_tag(\"model\", \"GradientBoostingRegressor\")\n",
    "    gbr = GradientBoostingRegressor()\n",
    "    random_search_gbr = RandomizedSearchCV(\n",
    "        gbr, gb_params, n_iter=10, scoring='neg_root_mean_squared_error', cv=3, random_state=42\n",
    "    )\n",
    "\n",
    "    random_search_gbr.fit(X_train, y_train)\n",
    "    best_model_gbr = random_search_gbr.best_estimator_\n",
    "    rmse_gbr = mean_squared_error(y_val, best_model_gbr.predict(X_val), squared=False)\n",
    "    mlflow.log_metric(\"rmse\", rmse_gbr)\n",
    "    # Tomar una muestra de los datos de validación\n",
    "    input_example = X_val[0:5]\n",
    "\n",
    "    mlflow.sklearn.log_model(\n",
    "    best_model_gbr,\n",
    "    artifact_path=\"model\",\n",
    "    input_example=input_example\n",
    "    )\n",
    "\n",
    "    # Loguear el preprocesador\n",
    "    mlflow.log_artifact(\"preprocessor.b\", artifact_path=\"preprocessor\")"
   ]
  },
  {
   "cell_type": "code",
   "execution_count": 7,
   "metadata": {},
   "outputs": [
    {
     "name": "stderr",
     "output_type": "stream",
     "text": [
      "2024/09/18 21:34:08 WARNING mlflow.sklearn: Failed to log training dataset information to MLflow Tracking. Reason: 'numpy.ndarray' object has no attribute 'toarray'\n",
      "2024/09/18 21:39:32 INFO mlflow.sklearn.utils: Logging the 5 best runs, 5 runs will be omitted.\n",
      "c:\\Users\\diego\\OneDrive - ITESO\\ITESO\\5 semestre\\Proyecto de Ciencia de datos\\nyc-taxi-time-prediction\\.venv\\Lib\\site-packages\\sklearn\\metrics\\_regression.py:492: FutureWarning: 'squared' is deprecated in version 1.4 and will be removed in 1.6. To calculate the root mean squared error, use the function'root_mean_squared_error'.\n",
      "  warnings.warn(\n",
      "2024/09/18 21:39:36 WARNING mlflow.models.model: Model logged without a signature and input example. Please set `input_example` parameter when logging the model to auto infer the model signature.\n"
     ]
    }
   ],
   "source": [
    "# Experimento con Random Forest Regressor\n",
    "with mlflow.start_run(run_name=\"RandomForestRegressor\") as parent_run:\n",
    "    mlflow.set_tag(\"model\", \"RandomForestRegressor\")\n",
    "    rfr = RandomForestRegressor()\n",
    "    random_search_rfr = RandomizedSearchCV(\n",
    "        rfr, rf_params, n_iter=10, scoring='neg_root_mean_squared_error', cv=3, random_state=42\n",
    "    )\n",
    "\n",
    "    random_search_rfr.fit(X_train, y_train)\n",
    "    best_model_rfr = random_search_rfr.best_estimator_\n",
    "    rmse_rfr = mean_squared_error(y_val, best_model_rfr.predict(X_val), squared=False)\n",
    "    mlflow.log_metric(\"rmse\", rmse_rfr)\n",
    "    mlflow.sklearn.log_model(best_model_rfr, artifact_path=\"model\")\n",
    "    # Tomar una muestra de los datos de validación\n",
    "    input_example = X_val[0:5]\n",
    "\n",
    "    mlflow.sklearn.log_model(\n",
    "    best_model_rfr,\n",
    "    artifact_path=\"model\",\n",
    "    input_example=input_example\n",
    "    )\n",
    "\n",
    "    # Loguear el preprocesador\n",
    "    mlflow.log_artifact(\"preprocessor.b\", artifact_path=\"preprocessor\")"
   ]
  },
  {
   "cell_type": "code",
   "execution_count": 8,
   "metadata": {},
   "outputs": [
    {
     "name": "stdout",
     "output_type": "stream",
     "text": [
      "RMSE GradientBoostingRegressor: 5.335807890583282\n",
      "RMSE RandomForestRegressor: 5.426790695571489\n"
     ]
    }
   ],
   "source": [
    "print(f\"RMSE GradientBoostingRegressor: {rmse_gbr}\")\n",
    "print(f\"RMSE RandomForestRegressor: {rmse_rfr}\")"
   ]
  },
  {
   "cell_type": "code",
   "execution_count": 9,
   "metadata": {},
   "outputs": [
    {
     "ename": "AttributeError",
     "evalue": "'NoneType' object has no attribute 'info'",
     "output_type": "error",
     "traceback": [
      "\u001b[1;31m---------------------------------------------------------------------------\u001b[0m",
      "\u001b[1;31mAttributeError\u001b[0m                            Traceback (most recent call last)",
      "Cell \u001b[1;32mIn[9], line 6\u001b[0m\n\u001b[0;32m      4\u001b[0m     best_rmse \u001b[38;5;241m=\u001b[39m rmse_gbr\n\u001b[0;32m      5\u001b[0m     best_model_name \u001b[38;5;241m=\u001b[39m \u001b[38;5;124m\"\u001b[39m\u001b[38;5;124mGradientBoostingRegressor\u001b[39m\u001b[38;5;124m\"\u001b[39m\n\u001b[1;32m----> 6\u001b[0m     best_run_id \u001b[38;5;241m=\u001b[39m \u001b[43mmlflow\u001b[49m\u001b[38;5;241;43m.\u001b[39;49m\u001b[43mactive_run\u001b[49m\u001b[43m(\u001b[49m\u001b[43m)\u001b[49m\u001b[38;5;241;43m.\u001b[39;49m\u001b[43minfo\u001b[49m\u001b[38;5;241m.\u001b[39mrun_id\n\u001b[0;32m      7\u001b[0m \u001b[38;5;28;01melse\u001b[39;00m:\n\u001b[0;32m      8\u001b[0m     best_model \u001b[38;5;241m=\u001b[39m best_model_rfr\n",
      "\u001b[1;31mAttributeError\u001b[0m: 'NoneType' object has no attribute 'info'"
     ]
    }
   ],
   "source": [
    "# Determinar el mejor modelo\n",
    "if rmse_gbr < rmse_rfr:\n",
    "    best_model = best_model_gbr\n",
    "    best_rmse = rmse_gbr\n",
    "    best_model_name = \"GradientBoostingRegressor\"\n",
    "    best_run_id = mlflow.active_run().info.run_id\n",
    "else:\n",
    "    best_model = best_model_rfr\n",
    "    best_rmse = rmse_rfr\n",
    "    best_model_name = \"RandomForestRegressor\"\n",
    "    best_run_id = mlflow.active_run().info.run_id\n",
    "\n",
    "print(f\"Mejor modelo: {best_model_name} con RMSE: {best_rmse}\")"
   ]
  },
  {
   "cell_type": "code",
   "execution_count": null,
   "metadata": {},
   "outputs": [],
   "source": [
    "# (2) Determinar el mejor modelo"
   ]
  },
  {
   "cell_type": "code",
   "execution_count": 8,
   "metadata": {},
   "outputs": [
    {
     "name": "stdout",
     "output_type": "stream",
     "text": [
      "Mejor modelo: GradientBoostingRegressor con RMSE: 5.335802943433224\n"
     ]
    }
   ],
   "source": [
    "# Determinar el mejor modelo\n",
    "if rmse_gbr < rmse_rfr:\n",
    "    best_model = best_model_gbr\n",
    "    best_rmse = rmse_gbr\n",
    "    best_model_name = \"GradientBoostingRegressor\"\n",
    "    best_run_id = random_search_gbr.best_estimator_.random_state\n",
    "else:\n",
    "    best_model = best_model_rfr\n",
    "    best_rmse = rmse_rfr\n",
    "    best_model_name = \"RandomForestRegressor\"\n",
    "    best_run_id = random_search_rfr.best_estimator_.random_state\n",
    "\n",
    "print(f\"Mejor modelo: {best_model_name} con RMSE: {best_rmse}\")"
   ]
  },
  {
   "cell_type": "markdown",
   "metadata": {},
   "source": [
    "### Registrar el modelo con mejor metrica en el model registry elde `nyc-taxi-model`"
   ]
  },
  {
   "cell_type": "code",
   "execution_count": 9,
   "metadata": {},
   "outputs": [
    {
     "name": "stderr",
     "output_type": "stream",
     "text": [
      "Successfully registered model 'nyc-taxi-model'.\n",
      "Created version '1' of model 'nyc-taxi-model'.\n"
     ]
    }
   ],
   "source": [
    "# Obtener el run_id del mejor modelo\n",
    "client = MlflowClient()\n",
    "experiment = client.get_experiment_by_name(\"nyc-taxi-experiment\")\n",
    "runs = client.search_runs(experiment_ids=experiment.experiment_id, order_by=[\"metrics.rmse ASC\"])\n",
    "\n",
    "best_run = runs[0]\n",
    "run_id = best_run.info.run_id\n",
    "\n",
    "# Registrar el modelo\n",
    "result = mlflow.register_model(\n",
    "    model_uri=f\"runs:/{run_id}/model\",\n",
    "    name=\"nyc-taxi-model\"\n",
    ")"
   ]
  },
  {
   "cell_type": "markdown",
   "metadata": {},
   "source": [
    "### Asignarle el alias de CHALLENGER"
   ]
  },
  {
   "cell_type": "code",
   "execution_count": 10,
   "metadata": {},
   "outputs": [],
   "source": [
    "# Asignar alias 'challenger' a la nueva versión del modelo\n",
    "new_model_version = result.version\n",
    "\n",
    "client.set_registered_model_alias(\n",
    "    name=\"nyc-taxi-model\",\n",
    "    alias=\"challenger\",\n",
    "    version=new_model_version\n",
    ")"
   ]
  },
  {
   "cell_type": "markdown",
   "metadata": {},
   "source": [
    "#### Descargar en la carpeta data los `datos de marzo del 2024`"
   ]
  },
  {
   "cell_type": "code",
   "execution_count": 11,
   "metadata": {},
   "outputs": [
    {
     "name": "stderr",
     "output_type": "stream",
     "text": [
      "  % Total    % Received % Xferd  Average Speed   Time    Time     Time  Current\n",
      "                                 Dload  Upload   Total   Spent    Left  Speed\n",
      "\n",
      "  0     0    0     0    0     0      0      0 --:--:-- --:--:-- --:--:--     0\n",
      "  0     0    0     0    0     0      0      0 --:--:-- --:--:-- --:--:--     0\n",
      "100 1340k  100 1340k    0     0  2074k      0 --:--:-- --:--:-- --:--:-- 2094k\n"
     ]
    }
   ],
   "source": [
    "# Desde tu terminal o en una celda de código\n",
    "!curl -o ../data/green_tripdata_2024-03.parquet https://d37ci6vzurychx.cloudfront.net/trip-data/green_tripdata_2024-03.parquet"
   ]
  },
  {
   "cell_type": "markdown",
   "metadata": {},
   "source": [
    "Guardarla en el storage disponible de MLflow el dataset como un artifact"
   ]
  },
  {
   "cell_type": "code",
   "execution_count": 12,
   "metadata": {},
   "outputs": [],
   "source": [
    "with mlflow.start_run(run_name=\"Data Storage\") as run:\n",
    "    mlflow.log_artifact('../data/green_tripdata_2024-03.parquet', artifact_path=\"data\")"
   ]
  },
  {
   "cell_type": "markdown",
   "metadata": {},
   "source": [
    "Usar esos datos para probarlo sobre los modelos con el alias champion y challenger"
   ]
  },
  {
   "cell_type": "code",
   "execution_count": 13,
   "metadata": {},
   "outputs": [],
   "source": [
    "df_test = read_dataframe('../data/green_tripdata_2024-03.parquet')\n",
    "\n",
    "df_test['PU_DO'] = df_test['PULocationID'] + '_' + df_test['DOLocationID']\n",
    "\n",
    "test_dicts = df_test[categorical + numerical].to_dict(orient='records')\n",
    "X_test = dv.transform(test_dicts)\n",
    "y_test = df_test['duration'].values"
   ]
  },
  {
   "cell_type": "markdown",
   "metadata": {},
   "source": [
    "cargar los modelos"
   ]
  },
  {
   "cell_type": "code",
   "execution_count": 21,
   "metadata": {},
   "outputs": [],
   "source": [
    "# Cargar preprocesador\n",
    "with open(\"preprocessor.b\", \"rb\") as f_in:\n",
    "    dv = pickle.load(f_in)\n",
    "\n",
    "# Cargar modelos\n",
    "champion_model = mlflow.pyfunc.load_model(model_uri=\"models:/nyc-taxi-model@champion\")\n",
    "challenger_model = mlflow.pyfunc.load_model(model_uri=\"models:/nyc-taxi-model@challenger\")"
   ]
  },
  {
   "cell_type": "code",
   "execution_count": 18,
   "metadata": {},
   "outputs": [
    {
     "name": "stdout",
     "output_type": "stream",
     "text": [
      "Version: 1, Aliases: []\n"
     ]
    },
    {
     "name": "stderr",
     "output_type": "stream",
     "text": [
      "C:\\Users\\diego\\AppData\\Local\\Temp\\ipykernel_45672\\3988893368.py:9: FutureWarning: ``mlflow.tracking.client.MlflowClient.get_latest_versions`` is deprecated since 2.9.0. Model registry stages will be removed in a future major release. To learn more about the deprecation of model registry stages, see our migration guide here: https://mlflow.org/docs/latest/model-registry.html#migrating-from-stages\n",
      "  versions = client.get_latest_versions(name=model_name, stages=[\"None\", \"Staging\", \"Production\", \"Archived\"])\n"
     ]
    }
   ],
   "source": [
    "client = MlflowClient()\n",
    "\n",
    "# Nombre del modelo\n",
    "model_name = \"nyc-taxi-model\"\n",
    "\n",
    "# Obtener todas las versiones del modelo\n",
    "versions = client.get_latest_versions(name=model_name, stages=[\"None\", \"Staging\", \"Production\", \"Archived\"])\n",
    "\n",
    "# Imprimir detalles de cada versión\n",
    "for version in versions:\n",
    "    print(f\"Version: {version.version}, Aliases: {version.aliases}\")"
   ]
  },
  {
   "cell_type": "code",
   "execution_count": 19,
   "metadata": {},
   "outputs": [],
   "source": [
    "# # Asignar el alias 'champion' a la versión 1\n",
    "# client.set_registered_model_alias(\n",
    "#     name=\"nyc-taxi-model\",\n",
    "#     alias=\"champion\",\n",
    "#     version=1  # Cambiar esto por la versión correcta CUANDO SE NECESITE\n",
    "# )"
   ]
  },
  {
   "cell_type": "code",
   "execution_count": 20,
   "metadata": {},
   "outputs": [
    {
     "name": "stdout",
     "output_type": "stream",
     "text": [
      "Version: 1, Aliases: []\n"
     ]
    },
    {
     "name": "stderr",
     "output_type": "stream",
     "text": [
      "C:\\Users\\diego\\AppData\\Local\\Temp\\ipykernel_45672\\1509178697.py:2: FutureWarning: ``mlflow.tracking.client.MlflowClient.get_latest_versions`` is deprecated since 2.9.0. Model registry stages will be removed in a future major release. To learn more about the deprecation of model registry stages, see our migration guide here: https://mlflow.org/docs/latest/model-registry.html#migrating-from-stages\n",
      "  versions = client.get_latest_versions(name=model_name, stages=[\"None\", \"Staging\", \"Production\", \"Archived\"])\n"
     ]
    }
   ],
   "source": [
    "# # Verificar las versiones y sus alias nuevamente\n",
    "# versions = client.get_latest_versions(name=model_name, stages=[\"None\", \"Staging\", \"Production\", \"Archived\"])\n",
    "\n",
    "# for version in versions:\n",
    "#     print(f\"Version: {version.version}, Aliases: {version.aliases}\")"
   ]
  },
  {
   "cell_type": "markdown",
   "metadata": {},
   "source": [
    "Obtener la métrica de cada modelo"
   ]
  },
  {
   "cell_type": "code",
   "execution_count": 22,
   "metadata": {},
   "outputs": [
    {
     "name": "stderr",
     "output_type": "stream",
     "text": [
      "c:\\Users\\diego\\OneDrive - ITESO\\ITESO\\5 semestre\\Proyecto de Ciencia de datos\\nyc-taxi-time-prediction\\.venv\\Lib\\site-packages\\sklearn\\metrics\\_regression.py:492: FutureWarning: 'squared' is deprecated in version 1.4 and will be removed in 1.6. To calculate the root mean squared error, use the function'root_mean_squared_error'.\n",
      "  warnings.warn(\n"
     ]
    },
    {
     "name": "stdout",
     "output_type": "stream",
     "text": [
      "RMSE Champion: 5.369724023809842\n",
      "RMSE Challenger: 5.369724023809842\n"
     ]
    },
    {
     "name": "stderr",
     "output_type": "stream",
     "text": [
      "c:\\Users\\diego\\OneDrive - ITESO\\ITESO\\5 semestre\\Proyecto de Ciencia de datos\\nyc-taxi-time-prediction\\.venv\\Lib\\site-packages\\sklearn\\metrics\\_regression.py:492: FutureWarning: 'squared' is deprecated in version 1.4 and will be removed in 1.6. To calculate the root mean squared error, use the function'root_mean_squared_error'.\n",
      "  warnings.warn(\n"
     ]
    }
   ],
   "source": [
    "# Predecir y calcular RMSE para el modelo champion\n",
    "y_pred_champion = champion_model.predict(X_test)\n",
    "rmse_champion = mean_squared_error(y_test, y_pred_champion, squared=False)\n",
    "\n",
    "# Predecir y calcular RMSE para el modelo challenger\n",
    "y_pred_challenger = challenger_model.predict(X_test)\n",
    "rmse_challenger = mean_squared_error(y_test, y_pred_challenger, squared=False)\n",
    "\n",
    "print(f\"RMSE Champion: {rmse_champion}\")\n",
    "print(f\"RMSE Challenger: {rmse_challenger}\")"
   ]
  },
  {
   "cell_type": "markdown",
   "metadata": {},
   "source": [
    "Decidir si el nuevo modelo challenger debe ser promovido a champion"
   ]
  },
  {
   "cell_type": "markdown",
   "metadata": {},
   "source": [
    "Paso 11: Decidir si el nuevo modelo **challenger** debe ser promovido a **champion**\n",
    "\n",
    "Análisis:\n",
    "- **Rendimiento**: Si `rmse_challenger` es menor que `rmse_champion`, el modelo challenger tiene un mejor rendimiento en el conjunto de prueba.\n",
    "- **Consistencia**: Considera si el rendimiento es consistente a través de diferentes métricas o segmentos de datos.\n",
    "- **Complejidad**: Un modelo más complejo puede requerir más recursos computacionales. ¿Es aceptable?\n",
    "- **Tiempo de inferencia**: ¿El tiempo de predicción es adecuado para las necesidades del negocio?\n"
   ]
  },
  {
   "cell_type": "code",
   "execution_count": 23,
   "metadata": {},
   "outputs": [
    {
     "name": "stdout",
     "output_type": "stream",
     "text": [
      "El modelo challenger no supera al champion actual.\n"
     ]
    }
   ],
   "source": [
    "if rmse_challenger < rmse_champion:\n",
    "    # Promover el modelo challenger a champion\n",
    "    client.set_registered_model_alias(\n",
    "        name=\"nyc-taxi-model\",\n",
    "        alias=\"champion\",\n",
    "        version=new_model_version\n",
    "    )\n",
    "    print(\"El modelo challenger ha sido promovido a champion.\")\n",
    "else:\n",
    "    print(\"El modelo challenger no supera al champion actual.\")"
   ]
  }
 ],
 "metadata": {
  "kernelspec": {
   "display_name": ".venv",
   "language": "python",
   "name": "python3"
  },
  "language_info": {
   "codemirror_mode": {
    "name": "ipython",
    "version": 3
   },
   "file_extension": ".py",
   "mimetype": "text/x-python",
   "name": "python",
   "nbconvert_exporter": "python",
   "pygments_lexer": "ipython3",
   "version": "3.11.8"
  }
 },
 "nbformat": 4,
 "nbformat_minor": 2
}
