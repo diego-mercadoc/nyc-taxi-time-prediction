{
 "cells": [
  {
   "cell_type": "markdown",
   "metadata": {},
   "source": [
    "## Experimentos con Gradient Boosting y Random Forest\n",
    "\n",
    "### Diego Mercado Coello\n",
    "### # de expediente: 745441"
   ]
  },
  {
   "cell_type": "code",
   "execution_count": 26,
   "metadata": {},
   "outputs": [],
   "source": [
    "import pandas as pd\n",
    "import numpy as np\n",
    "import pickle\n",
    "from sklearn.feature_extraction import DictVectorizer\n",
    "from sklearn.metrics import mean_squared_error\n",
    "from sklearn.model_selection import RandomizedSearchCV\n",
    "from sklearn.ensemble import GradientBoostingRegressor, RandomForestRegressor\n",
    "import mlflow\n",
    "from mlflow import MlflowClient\n",
    "from scipy.stats import randint, uniform\n",
    "import dagshub\n",
    "from dagshub import get_repo_bucket_client\n",
    "from datetime import datetime\n",
    "# Import root_mean_squared_error\n",
    "from sklearn.metrics import mean_squared_error\n",
    "from math import sqrt\n",
    "import pathlib\n",
    "\n"
   ]
  },
  {
   "cell_type": "code",
   "execution_count": 27,
   "metadata": {},
   "outputs": [
    {
     "data": {
      "text/html": [
       "<pre style=\"white-space:pre;overflow-x:auto;line-height:normal;font-family:Menlo,'DejaVu Sans Mono',consolas,'Courier New',monospace\">Initialized MLflow to track repo <span style=\"color: #008000; text-decoration-color: #008000\">\"diego-mercadoc/nyc-taxi-time-prediction\"</span>\n",
       "</pre>\n"
      ],
      "text/plain": [
       "Initialized MLflow to track repo \u001b[32m\"diego-mercadoc/nyc-taxi-time-prediction\"\u001b[0m\n"
      ]
     },
     "metadata": {},
     "output_type": "display_data"
    },
    {
     "data": {
      "text/html": [
       "<pre style=\"white-space:pre;overflow-x:auto;line-height:normal;font-family:Menlo,'DejaVu Sans Mono',consolas,'Courier New',monospace\">Repository diego-mercadoc/nyc-taxi-time-prediction initialized!\n",
       "</pre>\n"
      ],
      "text/plain": [
       "Repository diego-mercadoc/nyc-taxi-time-prediction initialized!\n"
      ]
     },
     "metadata": {},
     "output_type": "display_data"
    },
    {
     "name": "stdout",
     "output_type": "stream",
     "text": [
      "https://dagshub.com/diego-mercadoc/nyc-taxi-time-prediction.mlflow\n"
     ]
    },
    {
     "data": {
      "text/plain": [
       "<Experiment: artifact_location='mlflow-artifacts:/4a2f89adc0ff477ead9bc8f38ff1a8ba', creation_time=1726630128698, experiment_id='0', last_update_time=1726630128698, lifecycle_stage='active', name='nyc-taxi-experiment', tags={}>"
      ]
     },
     "execution_count": 27,
     "metadata": {},
     "output_type": "execute_result"
    }
   ],
   "source": [
    "# AHORA SI configuro dagsHub como el tracking server de mlflow\n",
    "dagshub.init(url=\"https://dagshub.com/diego-mercadoc/nyc-taxi-time-prediction\", mlflow=True)\n",
    "\n",
    "MLFLOW_TRACKING_URI = mlflow.get_tracking_uri()\n",
    "print(MLFLOW_TRACKING_URI)\n",
    "\n",
    "mlflow.set_tracking_uri(MLFLOW_TRACKING_URI)\n",
    "mlflow.set_experiment(experiment_name=\"nyc-taxi-experiment\")"
   ]
  },
  {
   "cell_type": "code",
   "execution_count": 28,
   "metadata": {},
   "outputs": [],
   "source": [
    "# AHORA SI CON FUNCIONES Cargar los datos de enero y febrero de 2024\n",
    "def read_dataframe(filename):\n",
    "    df = pd.read_parquet(filename)\n",
    "\n",
    "    df['duration'] = df.lpep_dropoff_datetime - df.lpep_pickup_datetime\n",
    "    df['duration'] = df['duration'].dt.total_seconds() / 60\n",
    "\n",
    "    df = df[(df.duration >= 1) & (df.duration <= 60)]\n",
    "\n",
    "    categorical = ['PULocationID', 'DOLocationID']\n",
    "    df[categorical] = df[categorical].astype(str)\n",
    "\n",
    "    return df"
   ]
  },
  {
   "cell_type": "code",
   "execution_count": 29,
   "metadata": {},
   "outputs": [],
   "source": [
    "# Usar la funcion para cargar los datos\n",
    "df_train = read_dataframe('../data/green_tripdata_2024-01.parquet')\n",
    "df_val = read_dataframe('../data/green_tripdata_2024-02.parquet')"
   ]
  },
  {
   "cell_type": "code",
   "execution_count": 31,
   "metadata": {},
   "outputs": [],
   "source": [
    "# AHORA SI CON FUNCIONES Preprocesar los datos FEATURE ENGINEERING\n",
    "def preprocess_data(df_train, df_val):\n",
    "    df_train['PU_DO'] = df_train['PULocationID'] + '_' + df_train['DOLocationID']\n",
    "    df_val['PU_DO'] = df_val['PULocationID'] + '_' + df_val['DOLocationID']\n",
    "\n",
    "    categorical = ['PU_DO']\n",
    "    numerical = ['trip_distance']\n",
    "    dv = DictVectorizer()\n",
    "\n",
    "    train_dicts = df_train[categorical + numerical].to_dict(orient='records')\n",
    "    X_train = dv.fit_transform(train_dicts)\n",
    "\n",
    "    val_dicts = df_val[categorical + numerical].to_dict(orient='records')\n",
    "    X_val = dv.transform(val_dicts)\n",
    "\n",
    "    y_train = df_train['duration'].values\n",
    "    y_val = df_val['duration'].values\n",
    "\n",
    "    return X_train, X_val, y_train, y_val, dv"
   ]
  },
  {
   "cell_type": "code",
   "execution_count": 32,
   "metadata": {},
   "outputs": [],
   "source": [
    "# Usar la funcion de feature engineering\n",
    "X_train, X_val, y_train, y_val, dv = preprocess_data(df_train, df_val)"
   ]
  },
  {
   "cell_type": "code",
   "execution_count": 33,
   "metadata": {},
   "outputs": [
    {
     "data": {
      "text/html": [
       "<pre style=\"white-space:pre;overflow-x:auto;line-height:normal;font-family:Menlo,'DejaVu Sans Mono',consolas,'Courier New',monospace\">Client created. Use the name of the repo <span style=\"font-weight: bold\">(</span>nyc-taxi-time-prediction<span style=\"font-weight: bold\">)</span> as the name of the bucket\n",
       "</pre>\n"
      ],
      "text/plain": [
       "Client created. Use the name of the repo \u001b[1m(\u001b[0mnyc-taxi-time-prediction\u001b[1m)\u001b[0m as the name of the bucket\n"
      ]
     },
     "metadata": {},
     "output_type": "display_data"
    }
   ],
   "source": [
    "# Subir los dataseets a DAGSsHub Storage\n",
    "# Get a boto3.client object\n",
    "s3 = get_repo_bucket_client(\"diego-mercadoc/nyc-taxi-time-prediction\")\n",
    "\n",
    "# Upload training data\n",
    "s3.upload_file(\n",
    "    Bucket=\"nyc-taxi-time-prediction\",\n",
    "    Filename=\"../data/green_tripdata_2024-01.parquet\",\n",
    "    Key=\"train_data.parquet\",\n",
    ")\n",
    "\n",
    "# Upload validation data\n",
    "s3.upload_file(\n",
    "    Bucket=\"nyc-taxi-time-prediction\",\n",
    "    Filename=\"../data/green_tripdata_2024-02.parquet\",\n",
    "    Key=\"eval_data.parquet\",\n",
    ")"
   ]
  },
  {
   "cell_type": "code",
   "execution_count": 37,
   "metadata": {},
   "outputs": [],
   "source": [
    "def train_gradient_boosting(X_train, y_train, X_val, y_val, dv):\n",
    "    with mlflow.start_run(run_name=\"GradientBoostingRegressor\") as run:\n",
    "        mlflow.set_tag(\"model_family\", \"GradientBoostingRegressor\")\n",
    "        mlflow.sklearn.autolog()\n",
    "\n",
    "        # Define hyperparameter search space\n",
    "        gb_params = {\n",
    "            'n_estimators': randint(50, 200),\n",
    "            'learning_rate': uniform(0.01, 0.3),\n",
    "            'max_depth': randint(3, 10)\n",
    "        }\n",
    "\n",
    "        # Perform Randomized Search\n",
    "        gbr = GradientBoostingRegressor()\n",
    "        random_search = RandomizedSearchCV(\n",
    "            gbr, gb_params, n_iter=10, scoring='neg_root_mean_squared_error', cv=3, random_state=42, n_jobs=-1\n",
    "        )\n",
    "        random_search.fit(X_train, y_train)\n",
    "\n",
    "        best_model = random_search.best_estimator_\n",
    "        y_pred = best_model.predict(X_val)\n",
    "        rmse = sqrt(mean_squared_error(y_val, y_pred, squared=False))\n",
    "        mlflow.log_metric(\"rmse\", rmse)\n",
    "\n",
    "        # Log model\n",
    "        mlflow.sklearn.log_model(best_model, artifact_path=\"model\")\n",
    "\n",
    "        # Log preprocessor\n",
    "        pathlib.Path(\"models\").mkdir(exist_ok=True)\n",
    "        with open(\"models/preprocessor.b\", \"wb\") as f_out:\n",
    "            pickle.dump(dv, f_out)\n",
    "            \n",
    "        mlflow.log_artifact(\"models/preprocessor.b\", artifact_path=\"preprocessor\")\n",
    "\n",
    "    return rmse, run.info.run_id"
   ]
  },
  {
   "cell_type": "markdown",
   "metadata": {},
   "source": [
    "RF"
   ]
  },
  {
   "cell_type": "code",
   "execution_count": 38,
   "metadata": {},
   "outputs": [],
   "source": [
    "def train_random_forest(X_train, y_train, X_val, y_val, dv):\n",
    "    with mlflow.start_run(run_name=\"RandomForestRegressor\") as run:\n",
    "        mlflow.set_tag(\"model_family\", \"RandomForestRegressor\")\n",
    "        mlflow.sklearn.autolog()\n",
    "\n",
    "        # Define hyperparameter search space\n",
    "        rf_params = {\n",
    "            'n_estimators': randint(50, 200),\n",
    "            'max_depth': randint(3, 20),\n",
    "            'max_features': ['sqrt', 'log2', None]\n",
    "        }\n",
    "\n",
    "        # Perform Randomized Search\n",
    "        rfr = RandomForestRegressor()\n",
    "        random_search = RandomizedSearchCV(\n",
    "            rfr, rf_params, n_iter=10, scoring='neg_root_mean_squared_error', cv=3, random_state=42, n_jobs=-1\n",
    "        )\n",
    "        random_search.fit(X_train, y_train)\n",
    "\n",
    "        best_model = random_search.best_estimator_\n",
    "        y_pred = best_model.predict(X_val)\n",
    "        rmse = sqrt(mean_squared_error(y_val, y_pred, squared=False))\n",
    "        mlflow.log_metric(\"rmse\", rmse)\n",
    "\n",
    "        # Log model\n",
    "        input_example = X_val[0:5]  # Provide an input example to avoid warnings\n",
    "        mlflow.sklearn.log_model(\n",
    "            best_model,\n",
    "            artifact_path=\"model\",\n",
    "            input_example=input_example\n",
    "        )\n",
    "\n",
    "        # Log preprocessor\n",
    "        pathlib.Path(\"models\").mkdir(exist_ok=True)\n",
    "        with open(\"models/preprocessor.b\", \"wb\") as f_out:\n",
    "            pickle.dump(dv, f_out)\n",
    "            \n",
    "        mlflow.log_artifact(\"models/preprocessor.b\", artifact_path=\"preprocessor\")\n",
    "\n",
    "    return rmse, run.info.run_id"
   ]
  },
  {
   "cell_type": "code",
   "execution_count": 39,
   "metadata": {},
   "outputs": [
    {
     "name": "stderr",
     "output_type": "stream",
     "text": [
      "2024/09/20 17:39:33 WARNING mlflow.sklearn: Failed to log training dataset information to MLflow Tracking. Reason: 'numpy.ndarray' object has no attribute 'toarray'\n",
      "2024/09/20 17:42:07 INFO mlflow.sklearn.utils: Logging the 5 best runs, 5 runs will be omitted.\n",
      "c:\\Users\\diego\\OneDrive - ITESO\\ITESO\\5 semestre\\Proyecto de Ciencia de datos\\nyc-taxi-time-prediction\\.venv\\Lib\\site-packages\\sklearn\\metrics\\_regression.py:492: FutureWarning: 'squared' is deprecated in version 1.4 and will be removed in 1.6. To calculate the root mean squared error, use the function'root_mean_squared_error'.\n",
      "  warnings.warn(\n",
      "2024/09/20 17:42:12 WARNING mlflow.models.model: Model logged without a signature and input example. Please set `input_example` parameter when logging the model to auto infer the model signature.\n",
      "2024/09/20 17:42:15 INFO mlflow.tracking._tracking_service.client: 🏃 View run GradientBoostingRegressor at: https://dagshub.com/diego-mercadoc/nyc-taxi-time-prediction.mlflow/#/experiments/0/runs/cf9b6567b8f44d199766f28e90e0189f.\n",
      "2024/09/20 17:42:15 INFO mlflow.tracking._tracking_service.client: 🧪 View experiment at: https://dagshub.com/diego-mercadoc/nyc-taxi-time-prediction.mlflow/#/experiments/0.\n",
      "2024/09/20 17:42:16 WARNING mlflow.sklearn: Failed to log training dataset information to MLflow Tracking. Reason: 'numpy.ndarray' object has no attribute 'toarray'\n",
      "2024/09/20 17:44:22 INFO mlflow.sklearn.utils: Logging the 5 best runs, 5 runs will be omitted.\n",
      "c:\\Users\\diego\\OneDrive - ITESO\\ITESO\\5 semestre\\Proyecto de Ciencia de datos\\nyc-taxi-time-prediction\\.venv\\Lib\\site-packages\\sklearn\\metrics\\_regression.py:492: FutureWarning: 'squared' is deprecated in version 1.4 and will be removed in 1.6. To calculate the root mean squared error, use the function'root_mean_squared_error'.\n",
      "  warnings.warn(\n",
      "2024/09/20 17:44:35 INFO mlflow.tracking._tracking_service.client: 🏃 View run RandomForestRegressor at: https://dagshub.com/diego-mercadoc/nyc-taxi-time-prediction.mlflow/#/experiments/0/runs/ca7fc6c019384447a45fdd5e45739f9e.\n",
      "2024/09/20 17:44:35 INFO mlflow.tracking._tracking_service.client: 🧪 View experiment at: https://dagshub.com/diego-mercadoc/nyc-taxi-time-prediction.mlflow/#/experiments/0.\n"
     ]
    }
   ],
   "source": [
    "#Entrenar los modelos\n",
    "rmse_gbr, run_id_gbr = train_gradient_boosting(X_train, y_train, X_val, y_val, dv)\n",
    "rmse_rfr, run_id_rfr = train_random_forest(X_train, y_train, X_val, y_val, dv)"
   ]
  },
  {
   "cell_type": "code",
   "execution_count": 40,
   "metadata": {},
   "outputs": [
    {
     "name": "stdout",
     "output_type": "stream",
     "text": [
      "RMSE GradientBoostingRegressor: 2.310325835358404\n",
      "RMSE RandomForestRegressor: 2.3291133840513694\n"
     ]
    }
   ],
   "source": [
    "print(f\"RMSE GradientBoostingRegressor: {rmse_gbr}\")\n",
    "print(f\"RMSE RandomForestRegressor: {rmse_rfr}\")"
   ]
  },
  {
   "cell_type": "code",
   "execution_count": 42,
   "metadata": {},
   "outputs": [],
   "source": [
    "# (2) Determinar el mejor modelo"
   ]
  },
  {
   "cell_type": "code",
   "execution_count": 43,
   "metadata": {},
   "outputs": [
    {
     "name": "stdout",
     "output_type": "stream",
     "text": [
      "Mejor modelo: GradientBoostingRegressor con RMSE: 2.310325835358404\n"
     ]
    }
   ],
   "source": [
    "# Determinar el mejor modelo\n",
    "if rmse_gbr < rmse_rfr:\n",
    "    best_rmse = rmse_gbr\n",
    "    best_model_name = \"GradientBoostingRegressor\"\n",
    "    best_run_id = run_id_gbr\n",
    "else:\n",
    "    best_rmse = rmse_rfr\n",
    "    best_model_name = \"RandomForestRegressor\"\n",
    "    best_run_id = run_id_rfr\n",
    "\n",
    "print(f\"Mejor modelo: {best_model_name} con RMSE: {best_rmse}\")"
   ]
  },
  {
   "cell_type": "markdown",
   "metadata": {},
   "source": [
    "### Registrar el modelo en MLFLOW con mejor metrica en el model registry elde `nyc-taxi-model` y asignar el Challenger al que corresponda."
   ]
  },
  {
   "cell_type": "code",
   "execution_count": 45,
   "metadata": {},
   "outputs": [
    {
     "name": "stderr",
     "output_type": "stream",
     "text": [
      "Registered model 'nyc-taxi-model' already exists. Creating a new version of this model...\n",
      "2024/09/20 17:46:18 INFO mlflow.store.model_registry.abstract_store: Waiting up to 300 seconds for model version to finish creation. Model name: nyc-taxi-model, version 3\n",
      "Created version '3' of model 'nyc-taxi-model'.\n"
     ]
    }
   ],
   "source": [
    "# Register the new model version\n",
    "result = mlflow.register_model(\n",
    "    model_uri=f\"runs:/{best_run_id}/model\",\n",
    "    name=\"nyc-taxi-model\"\n",
    ")\n",
    "\n",
    "client = MlflowClient(tracking_uri=MLFLOW_TRACKING_URI)\n",
    "client.update_registered_model(\n",
    "    name=\"nyc-taxi-model\",\n",
    "    description=\"Modelo para predecir la duración de viajes en taxi en Nueva York\"\n",
    ")\n",
    "\n",
    "\n",
    "new_version = result.version\n",
    "\n",
    "# Assign 'challenger' alias to the new version\n",
    "client.set_registered_model_alias(\n",
    "    name=\"nyc-taxi-model\",\n",
    "    alias=\"challenger\",\n",
    "    version=new_version\n",
    ")\n"
   ]
  },
  {
   "cell_type": "markdown",
   "metadata": {},
   "source": [
    "#### Descargar en la carpeta data los `datos de marzo del 2024`"
   ]
  },
  {
   "cell_type": "code",
   "execution_count": 47,
   "metadata": {},
   "outputs": [
    {
     "name": "stderr",
     "output_type": "stream",
     "text": [
      "  % Total    % Received % Xferd  Average Speed   Time    Time     Time  Current\n",
      "                                 Dload  Upload   Total   Spent    Left  Speed\n",
      "\n",
      "  0     0    0     0    0     0      0      0 --:--:-- --:--:-- --:--:--     0\n",
      "  0     0    0     0    0     0      0      0 --:--:-- --:--:-- --:--:--     0\n",
      "100 1340k  100 1340k    0     0  5825k      0 --:--:-- --:--:-- --:--:-- 5878k\n"
     ]
    }
   ],
   "source": [
    "# Desde tu terminal o en una celda de código\n",
    "!curl -o ../data/green_tripdata_2024-03.parquet https://d37ci6vzurychx.cloudfront.net/trip-data/green_tripdata_2024-03.parquet"
   ]
  },
  {
   "cell_type": "markdown",
   "metadata": {},
   "source": [
    "Cargar los modelo champion y challenger"
   ]
  },
  {
   "cell_type": "code",
   "execution_count": 48,
   "metadata": {},
   "outputs": [
    {
     "data": {
      "application/vnd.jupyter.widget-view+json": {
       "model_id": "ea4344621f134a3aadeb1923eb5a35a7",
       "version_major": 2,
       "version_minor": 0
      },
      "text/plain": [
       "Downloading artifacts:   0%|          | 0/5 [00:00<?, ?it/s]"
      ]
     },
     "metadata": {},
     "output_type": "display_data"
    },
    {
     "name": "stderr",
     "output_type": "stream",
     "text": [
      "2024/09/20 17:46:30 WARNING mlflow.utils.requirements_utils: Detected one or more mismatches between the model's dependencies and the current Python environment:\n",
      " - scikit-learn (current: 1.5.1, required: scikit-learn==1.5.2)\n",
      "To fix the mismatches, call `mlflow.pyfunc.get_model_dependencies(model_uri)` to fetch the model's environment and install dependencies using the resulting environment file.\n"
     ]
    },
    {
     "data": {
      "application/vnd.jupyter.widget-view+json": {
       "model_id": "a0ae1d7ba2ad4508b794626791e58de2",
       "version_major": 2,
       "version_minor": 0
      },
      "text/plain": [
       "Downloading artifacts:   0%|          | 0/5 [00:00<?, ?it/s]"
      ]
     },
     "metadata": {},
     "output_type": "display_data"
    }
   ],
   "source": [
    "champion_model = mlflow.pyfunc.load_model(model_uri=\"models:/nyc-taxi-model@champion\")\n",
    "challenger_model = mlflow.pyfunc.load_model(model_uri=f\"models:/nyc-taxi-model/{new_version}\")"
   ]
  },
  {
   "cell_type": "markdown",
   "metadata": {},
   "source": [
    "Evalur los dos en los datos del test"
   ]
  },
  {
   "cell_type": "code",
   "execution_count": 50,
   "metadata": {},
   "outputs": [],
   "source": [
    "df_test = read_dataframe('../data/green_tripdata_2024-03.parquet')"
   ]
  },
  {
   "cell_type": "code",
   "execution_count": 51,
   "metadata": {},
   "outputs": [],
   "source": [
    "def prepare_test_data(df_test, dv):\n",
    "    df_test['PU_DO'] = df_test['PULocationID'] + '_' + df_test['DOLocationID']\n",
    "    categorical = ['PU_DO']\n",
    "    numerical = ['trip_distance']\n",
    "\n",
    "    test_dicts = df_test[categorical + numerical].to_dict(orient='records')\n",
    "    X_test = dv.transform(test_dicts)\n",
    "    y_test = df_test['duration'].values\n",
    "\n",
    "    return X_test, y_test"
   ]
  },
  {
   "cell_type": "code",
   "execution_count": 52,
   "metadata": {},
   "outputs": [],
   "source": [
    "X_test, y_test = prepare_test_data(df_test, dv)"
   ]
  },
  {
   "cell_type": "code",
   "execution_count": 53,
   "metadata": {},
   "outputs": [
    {
     "name": "stdout",
     "output_type": "stream",
     "text": [
      "Tiempo de ejecución del modelo campeón: 0:00:00.203073\n"
     ]
    },
    {
     "name": "stderr",
     "output_type": "stream",
     "text": [
      "c:\\Users\\diego\\OneDrive - ITESO\\ITESO\\5 semestre\\Proyecto de Ciencia de datos\\nyc-taxi-time-prediction\\.venv\\Lib\\site-packages\\sklearn\\metrics\\_regression.py:492: FutureWarning: 'squared' is deprecated in version 1.4 and will be removed in 1.6. To calculate the root mean squared error, use the function'root_mean_squared_error'.\n",
      "  warnings.warn(\n"
     ]
    }
   ],
   "source": [
    "# Contar el tiempo de ejecución de los modelos\n",
    "start_time = datetime.now()\n",
    "\n",
    "y_pred_champion = champion_model.predict(X_test)\n",
    "rmse_champion = sqrt(mean_squared_error(y_test, y_pred_champion, squared=False))\n",
    "end_time = datetime.now()\n",
    "\n",
    "champion_time = end_time - start_time\n",
    "\n",
    "# Printear el tiempo de ejecución\n",
    "print(f\"Tiempo de ejecución del modelo campeón: {champion_time}\")\n"
   ]
  },
  {
   "cell_type": "code",
   "execution_count": 54,
   "metadata": {},
   "outputs": [
    {
     "name": "stdout",
     "output_type": "stream",
     "text": [
      "RMSE Champion: 2.2814229402623813\n"
     ]
    }
   ],
   "source": [
    "print(f\"RMSE Champion: {rmse_champion}\")"
   ]
  },
  {
   "cell_type": "code",
   "execution_count": 55,
   "metadata": {},
   "outputs": [
    {
     "name": "stdout",
     "output_type": "stream",
     "text": [
      "Tiempo de ejecución del modelo retador: 0:00:00.162101\n"
     ]
    },
    {
     "name": "stderr",
     "output_type": "stream",
     "text": [
      "c:\\Users\\diego\\OneDrive - ITESO\\ITESO\\5 semestre\\Proyecto de Ciencia de datos\\nyc-taxi-time-prediction\\.venv\\Lib\\site-packages\\sklearn\\metrics\\_regression.py:492: FutureWarning: 'squared' is deprecated in version 1.4 and will be removed in 1.6. To calculate the root mean squared error, use the function'root_mean_squared_error'.\n",
      "  warnings.warn(\n"
     ]
    }
   ],
   "source": [
    "# Contar el tiempo de ejecución de los modelos\n",
    "start_time = datetime.now()\n",
    "\n",
    "y_pred_challenger = challenger_model.predict(X_test)\n",
    "rmse_challenger = sqrt(mean_squared_error(y_test, y_pred_challenger, squared=False))\n",
    "\n",
    "end_time = datetime.now()\n",
    "\n",
    "# Printear el tiempo de ejecución\n",
    "challenger_time = end_time - start_time\n",
    "print(f\"Tiempo de ejecución del modelo retador: {challenger_time}\")"
   ]
  },
  {
   "cell_type": "code",
   "execution_count": 56,
   "metadata": {},
   "outputs": [
    {
     "name": "stdout",
     "output_type": "stream",
     "text": [
      "RMSE Challenger: 2.3175183590334676\n"
     ]
    }
   ],
   "source": [
    "print(f\"RMSE Challenger: {rmse_challenger}\")"
   ]
  },
  {
   "cell_type": "markdown",
   "metadata": {},
   "source": [
    "Paso 11: Decidir si el nuevo modelo **challenger** debe ser promovido a **champion**\n",
    "\n",
    "Análisis:\n",
    "- **Rendimiento**: Si `rmse_challenger` es menor que `rmse_champion`, el modelo challenger tiene un mejor rendimiento en el conjunto de prueba.\n",
    "- **Consistencia**: Considera si el rendimiento es consistente a través de diferentes métricas o segmentos de datos.\n",
    "- **Complejidad**: Un modelo más complejo puede requerir más recursos computacionales. ¿Es aceptable?\n",
    "- **Tiempo de inferencia**: ¿El tiempo de predicción es adecuado para las necesidades del negocio?\n"
   ]
  },
  {
   "cell_type": "markdown",
   "metadata": {},
   "source": [
    "11. Decida si el nuevo modelo `challenger` debe ser promovido a `champion` o no. Use los criterios que usted como Data Scientis considere relevantes y justifique la respuesta."
   ]
  },
  {
   "cell_type": "code",
   "execution_count": 63,
   "metadata": {},
   "outputs": [
    {
     "name": "stdout",
     "output_type": "stream",
     "text": [
      "El Modelo @Challenger no superó al @Champion. ;( \n"
     ]
    }
   ],
   "source": [
    "if rmse_challenger < rmse_champion:\n",
    "    # Promote challenger to champion\n",
    "    client.set_registered_model_alias(\n",
    "        name=\"nyc-taxi-model\",\n",
    "        alias=\"champion\",\n",
    "        version=new_version\n",
    "    )\n",
    "    print(\"Modelo @Challenger promovido a @Champion!!!.\")\n",
    "else:\n",
    "    print(\"El Modelo @Challenger no superó al @Champion. ;( \")"
   ]
  },
  {
   "cell_type": "markdown",
   "metadata": {},
   "source": [
    "# Análisis para Decidir la Promoción del Modelo Challenger\n",
    "\n",
    "### Resultados Obtenidos:\n",
    "\n",
    "- **RMSE del Modelo Champion**: **2.2814**\n",
    "- **RMSE del Modelo Challenger**: **2.3175**\n",
    "- **Tiempo de Inferencia del Modelo Champion**: **0.203073 segundos**\n",
    "- **Tiempo de Inferencia del Modelo Challenger**: **0.162101 segundos**\n",
    "\n",
    "---\n",
    "\n",
    "### 1. Rendimiento (RMSE):\n",
    "\n",
    "- El **modelo champion** tiene un RMSE **menor** que el **modelo challenger**, que es una mejor precisión en las predicciones.\n",
    "- La diferencia en RMSE es de **0.0361**, lo que creeeo que puede ser significarivo pero pues depende de contexto, me imagino, tendra que saber mas del contexto.\n",
    "\n",
    "**Conclusión:** En cuanto a de precisión, el **modelo champion** es mejor wuuuu.\n",
    "\n",
    "---\n",
    "\n",
    "### 2. Tiempo de Inferencia:\n",
    "\n",
    "- El **modelo challenger** es **0.041 segundos** más rápido que el **modelo champion**.\n",
    "- Esto es una mejora de alrededor del **20%** en el tiempo.\n",
    "\n",
    "**Análisis:**\n",
    "\n",
    "- Si el sistema necesita predicciones en tiempo real y tiene muchas solicitudes, esta mejora en tiempo podría ser importante creo.\n",
    "- Si el tiempo de respuesta no es muuy importante, la mejora en velocidad puede no justificar una menor precisión.\n",
    "\n",
    "**Conclusión:** Aunque el **modelo challenger** es más rápido, la diferencia en tiempo es mínima y debe verse y evaluar si es muy importaante para los objetivos del contexto de los taxiss.\n",
    "\n",
    "---\n",
    "\n",
    "### 3. Complejidad del Modelo y Uso de Recursos:\n",
    "\n",
    "- **Modelo Champion:** Podría ser más complejo o tener hiperparámetros que aumentan su capacidad predictiva.\n",
    "- **Modelo Challenger:** Puede ser más sencillo o estar optimizado para velocidad.\n",
    "\n",
    "**Análisis:**\n",
    "\n",
    "- Un modelo menos complejo es más fácil de mantener y deployearr.\n",
    "- Si la complejidad extra del **modelo champion** no afecta muucho a los recursos, este factor no es comoo muy determinante o important.\n",
    "\n",
    "**Conclusión:** Si los recursos y la complejidad no son limitantes, el **modelo champion** sigue siendo preferible por su mayor precisión.\n",
    "\n",
    "---\n",
    "\n",
    "### 4. Hiperparámetros y Generalización:\n",
    "\n",
    "- **Modelo Challenger:** Revisar si los hiperparámetros seleccionados permiten una mejor generalización.\n",
    "- **Modelo Champion:** Asegurarse de que no esté overfitteado al los datos de train.\n",
    "\n",
    "**Análisis:**\n",
    "\n",
    "- Evaluar otras métricas como MAE (Error Absoluto Medio).\n",
    "- Realizar cross validation adicional para verificar la estabilidad del modelo.\n",
    "\n",
    "**Conclusión:** No hay evidencia de overfitteao en el **modelo champion**; su mejor RMSE lo mantiene como la mejor opción.\n",
    "\n",
    "---\n",
    "\n",
    "### 5. Impacto en el Negocio y Requerimientos:\n",
    "\n",
    "- **Precisión vs. Velocidad:** Determinar si el eonteexto del negociuo valora más la precisión o la velocidad de respuesta.\n",
    "- **Experiencia del Usuario:** Una mejora en el tiempo de respuesta mejora significativamente la experiencia del usuario.\n",
    "- **Costos y Riesgos:** Cambiar el modelo en producción implica costos y riesgos asociados.\n",
    "\n",
    "**Conclusión:** Si la precisión es más importants y la mejora en velocidad no tiene un impacto muy importante/relevante, es preferible mantener el **modelo champion**.\n",
    "\n",
    "---\n",
    "\n",
    "### **Decisión Final:**\n",
    "\n",
    "**No se recomienda promover el modelo challenger a champion en este momento.**\n",
    "\n",
    "---\n",
    "\n",
    "### **Justificación:**\n",
    "\n",
    "- **Mayor Precisión del Champion:** Ofrece predicciones más exactas, que para la satisfacción del cliente (QUE EL CLIENTE ES LA GAS DEL NEGOCIO) y confiabilidad del servicio.\n",
    "- **Diferencia de Tiempo Mínima:** La mejora en tiempo de inferencia del challenger es mínima y no compensa la pérdida de precisión.\n",
    "- **Riesgos Asociados:** Cambiar el modelo podría introducir riesgos sin beneficios que valgan la oena.\n",
    "\n",
    "---\n",
    "\n",
    "### **Acciones Recomendadas como a futuro:**\n",
    "\n",
    "- **Optimización Continua:** ver otras técnicas o ajustar hiperparámetros para mejorar futuros modelos challengers.\n",
    "- **Monitoreo Constante:** evr el desempeño de ambos modelos, ya que cambios en los datos podrían alterar su rendimiento.\n",
    "- **Consulta con el Negocio:** Confirmar si los requerimientos podrían cambiar, haciendo que la velocidad sea más importante.\n",
    "\n",
    "---\n",
    "\n",
    "**POSDATA PROFE:** La decisión se basa en un análisis de los resultados y pues falta saber mas sobre los objetivos del negocio/contexto.\n"
   ]
  }
 ],
 "metadata": {
  "kernelspec": {
   "display_name": ".venv",
   "language": "python",
   "name": "python3"
  },
  "language_info": {
   "codemirror_mode": {
    "name": "ipython",
    "version": 3
   },
   "file_extension": ".py",
   "mimetype": "text/x-python",
   "name": "python",
   "nbconvert_exporter": "python",
   "pygments_lexer": "ipython3",
   "version": "3.11.8"
  }
 },
 "nbformat": 4,
 "nbformat_minor": 2
}
