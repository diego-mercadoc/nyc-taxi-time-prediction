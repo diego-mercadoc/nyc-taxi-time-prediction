{
 "cells": [
  {
   "cell_type": "markdown",
   "id": "aa3a12a1",
   "metadata": {},
   "source": [
    "## Experimentos con Gradient Boosting y Random Forest\n",
    "\n",
    "### Diego Mercado Coello\n",
    "### # de expediente: 745441"
   ]
  },
  {
   "cell_type": "code",
   "execution_count": 25,
   "id": "292f2c4a",
   "metadata": {},
   "outputs": [],
   "source": [
    "import pandas as pd\n",
    "import numpy as np\n",
    "import pickle\n",
    "from sklearn.feature_extraction import DictVectorizer\n",
    "from sklearn.metrics import mean_squared_error\n",
    "from sklearn.model_selection import RandomizedSearchCV, ParameterSampler\n",
    "from sklearn.ensemble import GradientBoostingRegressor, RandomForestRegressor\n",
    "import mlflow\n",
    "from mlflow import MlflowClient\n",
    "from scipy.stats import randint, uniform\n",
    "import dagshub\n",
    "from dagshub import get_repo_bucket_client\n",
    "from datetime import datetime\n",
    "from math import sqrt\n",
    "import pathlib\n"
   ]
  },
  {
   "cell_type": "code",
   "execution_count": 26,
   "id": "7b0c3f5e",
   "metadata": {},
   "outputs": [
    {
     "data": {
      "text/html": [
       "<pre style=\"white-space:pre;overflow-x:auto;line-height:normal;font-family:Menlo,'DejaVu Sans Mono',consolas,'Courier New',monospace\">Initialized MLflow to track repo <span style=\"color: #008000; text-decoration-color: #008000\">\"diego-mercadoc/nyc-taxi-time-prediction\"</span>\n",
       "</pre>\n"
      ],
      "text/plain": [
       "Initialized MLflow to track repo \u001b[32m\"diego-mercadoc/nyc-taxi-time-prediction\"\u001b[0m\n"
      ]
     },
     "metadata": {},
     "output_type": "display_data"
    },
    {
     "data": {
      "text/html": [
       "<pre style=\"white-space:pre;overflow-x:auto;line-height:normal;font-family:Menlo,'DejaVu Sans Mono',consolas,'Courier New',monospace\">Repository diego-mercadoc/nyc-taxi-time-prediction initialized!\n",
       "</pre>\n"
      ],
      "text/plain": [
       "Repository diego-mercadoc/nyc-taxi-time-prediction initialized!\n"
      ]
     },
     "metadata": {},
     "output_type": "display_data"
    },
    {
     "name": "stdout",
     "output_type": "stream",
     "text": [
      "https://dagshub.com/diego-mercadoc/nyc-taxi-time-prediction.mlflow\n"
     ]
    },
    {
     "data": {
      "text/plain": [
       "<Experiment: artifact_location='mlflow-artifacts:/4a2f89adc0ff477ead9bc8f38ff1a8ba', creation_time=1726630128698, experiment_id='0', last_update_time=1726630128698, lifecycle_stage='active', name='nyc-taxi-experiment', tags={}>"
      ]
     },
     "execution_count": 26,
     "metadata": {},
     "output_type": "execute_result"
    }
   ],
   "source": [
    "# Configurar DAGsHub como el tracking server de MLflow\n",
    "dagshub.init(url=\"https://dagshub.com/diego-mercadoc/nyc-taxi-time-prediction\", mlflow=True)\n",
    "\n",
    "MLFLOW_TRACKING_URI = mlflow.get_tracking_uri()\n",
    "print(MLFLOW_TRACKING_URI)\n",
    "\n",
    "mlflow.set_tracking_uri(MLFLOW_TRACKING_URI)\n",
    "mlflow.set_experiment(experiment_name=\"nyc-taxi-experiment\")"
   ]
  },
  {
   "cell_type": "code",
   "execution_count": 27,
   "id": "77849eec",
   "metadata": {},
   "outputs": [],
   "source": [
    "# Definir función para cargar los datos\n",
    "def read_dataframe(filename):\n",
    "    df = pd.read_parquet(filename)\n",
    "\n",
    "    df['duration'] = df.lpep_dropoff_datetime - df.lpep_pickup_datetime\n",
    "    df['duration'] = df['duration'].dt.total_seconds() / 60\n",
    "\n",
    "    df = df[(df.duration >= 1) & (df.duration <= 60)]\n",
    "\n",
    "    categorical = ['PULocationID', 'DOLocationID']\n",
    "    df[categorical] = df[categorical].astype(str)\n",
    "\n",
    "    return df"
   ]
  },
  {
   "cell_type": "code",
   "execution_count": 28,
   "id": "a5c0d58e",
   "metadata": {},
   "outputs": [],
   "source": [
    "# Cargar los datos de entrenamiento y validación\n",
    "df_train = read_dataframe('../data/green_tripdata_2024-01.parquet')\n",
    "df_val = read_dataframe('../data/green_tripdata_2024-02.parquet')"
   ]
  },
  {
   "cell_type": "code",
   "execution_count": 29,
   "id": "1b8b3e23",
   "metadata": {},
   "outputs": [],
   "source": [
    "# Definir función para preprocesar los datos (Feature Engineering)\n",
    "def preprocess_data(df_train, df_val):\n",
    "    df_train['PU_DO'] = df_train['PULocationID'] + '_' + df_train['DOLocationID']\n",
    "    df_val['PU_DO'] = df_val['PULocationID'] + '_' + df_val['DOLocationID']\n",
    "\n",
    "    categorical = ['PU_DO']\n",
    "    numerical = ['trip_distance']\n",
    "    dv = DictVectorizer()\n",
    "\n",
    "    train_dicts = df_train[categorical + numerical].to_dict(orient='records')\n",
    "    X_train = dv.fit_transform(train_dicts)\n",
    "\n",
    "    val_dicts = df_val[categorical + numerical].to_dict(orient='records')\n",
    "    X_val = dv.transform(val_dicts)\n",
    "\n",
    "    y_train = df_train['duration'].values\n",
    "    y_val = df_val['duration'].values\n",
    "\n",
    "    return X_train, X_val, y_train, y_val, dv"
   ]
  },
  {
   "cell_type": "code",
   "execution_count": 30,
   "id": "b3a0efbe",
   "metadata": {},
   "outputs": [],
   "source": [
    "# Preprocesar los datos\n",
    "X_train, X_val, y_train, y_val, dv = preprocess_data(df_train, df_val)"
   ]
  },
  {
   "cell_type": "code",
   "execution_count": 31,
   "id": "a9509cde",
   "metadata": {},
   "outputs": [
    {
     "data": {
      "text/html": [
       "<pre style=\"white-space:pre;overflow-x:auto;line-height:normal;font-family:Menlo,'DejaVu Sans Mono',consolas,'Courier New',monospace\">Client created. Use the name of the repo <span style=\"font-weight: bold\">(</span>nyc-taxi-time-prediction<span style=\"font-weight: bold\">)</span> as the name of the bucket\n",
       "</pre>\n"
      ],
      "text/plain": [
       "Client created. Use the name of the repo \u001b[1m(\u001b[0mnyc-taxi-time-prediction\u001b[1m)\u001b[0m as the name of the bucket\n"
      ]
     },
     "metadata": {},
     "output_type": "display_data"
    }
   ],
   "source": [
    "# Subir los datasets a DAGsHub Storage\n",
    "s3 = get_repo_bucket_client(\"diego-mercadoc/nyc-taxi-time-prediction\")\n",
    "\n",
    "# Upload training data\n",
    "s3.upload_file(\n",
    "    Bucket=\"nyc-taxi-time-prediction\",\n",
    "    Filename=\"../data/green_tripdata_2024-01.parquet\",\n",
    "    Key=\"train_data.parquet\",\n",
    ")\n",
    "\n",
    "# Upload validation data\n",
    "s3.upload_file(\n",
    "    Bucket=\"nyc-taxi-time-prediction\",\n",
    "    Filename=\"../data/green_tripdata_2024-02.parquet\",\n",
    "    Key=\"eval_data.parquet\",\n",
    ")"
   ]
  },
  {
   "cell_type": "code",
   "execution_count": 32,
   "id": "85789f03",
   "metadata": {},
   "outputs": [],
   "source": [
    "# Definir función para entrenar Gradient Boosting con runs anidados\n",
    "def train_gradient_boosting(X_train, y_train, X_val, y_val, dv):\n",
    "    from sklearn.model_selection import ParameterSampler\n",
    "    gb_params = {\n",
    "        'n_estimators': randint(50, 200),\n",
    "        'learning_rate': uniform(0.01, 0.3),\n",
    "        'max_depth': randint(3, 10)\n",
    "    }\n",
    "    param_distributions = list(ParameterSampler(gb_params, n_iter=10, random_state=42))\n",
    "    best_rmse = float('inf')\n",
    "    best_model = None\n",
    "    best_params = None\n",
    "    with mlflow.start_run(run_name=\"GradientBoostingRegressor\") as parent_run:\n",
    "        mlflow.set_tag(\"model_family\", \"GradientBoostingRegressor\")\n",
    "        for params in param_distributions:\n",
    "            with mlflow.start_run(nested=True):\n",
    "                mlflow.log_params(params)\n",
    "                model = GradientBoostingRegressor(**params)\n",
    "                model.fit(X_train, y_train)\n",
    "                y_pred = model.predict(X_val)\n",
    "                rmse = sqrt(mean_squared_error(y_val, y_pred, squared=False))\n",
    "                mlflow.log_metric(\"rmse\", rmse)\n",
    "                if rmse < best_rmse:\n",
    "                    best_rmse = rmse\n",
    "                    best_model = model\n",
    "                    best_params = params\n",
    "                    best_run_id = mlflow.active_run().info.run_id\n",
    "        # Loguear el mejor modelo en el run padre\n",
    "        mlflow.log_params(best_params)\n",
    "        mlflow.log_metric(\"best_rmse\", best_rmse)\n",
    "        mlflow.sklearn.log_model(best_model, artifact_path=\"model\")\n",
    "        # Log preprocessor\n",
    "        pathlib.Path(\"models\").mkdir(exist_ok=True)\n",
    "        with open(\"models/preprocessor.b\", \"wb\") as f_out:\n",
    "            pickle.dump(dv, f_out)\n",
    "        mlflow.log_artifact(\"models/preprocessor.b\", artifact_path=\"preprocessor\")\n",
    "    return best_rmse, parent_run.info.run_id"
   ]
  },
  {
   "cell_type": "markdown",
   "id": "3f1bd0c0",
   "metadata": {},
   "source": [
    "### Definir función para entrenar Random Forest con runs anidados"
   ]
  },
  {
   "cell_type": "code",
   "execution_count": 33,
   "id": "54a87231",
   "metadata": {},
   "outputs": [],
   "source": [
    "def train_random_forest(X_train, y_train, X_val, y_val, dv):\n",
    "    from sklearn.model_selection import ParameterSampler\n",
    "    rf_params = {\n",
    "        'n_estimators': randint(50, 200),\n",
    "        'max_depth': randint(3, 20),\n",
    "        'max_features': ['sqrt', 'log2', None]\n",
    "    }\n",
    "    param_distributions = list(ParameterSampler(rf_params, n_iter=10, random_state=42))\n",
    "    best_rmse = float('inf')\n",
    "    best_model = None\n",
    "    best_params = None\n",
    "    with mlflow.start_run(run_name=\"RandomForestRegressor\") as parent_run:\n",
    "        mlflow.set_tag(\"model_family\", \"RandomForestRegressor\")\n",
    "        for params in param_distributions:\n",
    "            with mlflow.start_run(nested=True):\n",
    "                mlflow.log_params(params)\n",
    "                model = RandomForestRegressor(**params)\n",
    "                model.fit(X_train, y_train)\n",
    "                y_pred = model.predict(X_val)\n",
    "                rmse = sqrt(mean_squared_error(y_val, y_pred, squared=False))\n",
    "                mlflow.log_metric(\"rmse\", rmse)\n",
    "                if rmse < best_rmse:\n",
    "                    best_rmse = rmse\n",
    "                    best_model = model\n",
    "                    best_params = params\n",
    "                    best_run_id = mlflow.active_run().info.run_id\n",
    "        # Loguear el mejor modelo en el run padre\n",
    "        mlflow.log_params(best_params)\n",
    "        mlflow.log_metric(\"best_rmse\", best_rmse)\n",
    "        mlflow.sklearn.log_model(best_model, artifact_path=\"model\")\n",
    "        # Log preprocessor\n",
    "        pathlib.Path(\"models\").mkdir(exist_ok=True)\n",
    "        with open(\"models/preprocessor.b\", \"wb\") as f_out:\n",
    "            pickle.dump(dv, f_out)\n",
    "        mlflow.log_artifact(\"models/preprocessor.b\", artifact_path=\"preprocessor\")\n",
    "    return best_rmse, parent_run.info.run_id"
   ]
  },
  {
   "cell_type": "code",
   "execution_count": 34,
   "id": "343ef218",
   "metadata": {},
   "outputs": [
    {
     "name": "stderr",
     "output_type": "stream",
     "text": [
      "c:\\Users\\diego\\OneDrive - ITESO\\ITESO\\5 semestre\\Proyecto de Ciencia de datos\\nyc-taxi-time-prediction\\.venv\\Lib\\site-packages\\sklearn\\metrics\\_regression.py:492: FutureWarning: 'squared' is deprecated in version 1.4 and will be removed in 1.6. To calculate the root mean squared error, use the function'root_mean_squared_error'.\n",
      "  warnings.warn(\n",
      "2024/09/23 21:31:14 INFO mlflow.tracking._tracking_service.client: 🏃 View run nervous-hawk-938 at: https://dagshub.com/diego-mercadoc/nyc-taxi-time-prediction.mlflow/#/experiments/0/runs/f0127ba7743247c1a128278cd2aaa240.\n",
      "2024/09/23 21:31:14 INFO mlflow.tracking._tracking_service.client: 🧪 View experiment at: https://dagshub.com/diego-mercadoc/nyc-taxi-time-prediction.mlflow/#/experiments/0.\n",
      "c:\\Users\\diego\\OneDrive - ITESO\\ITESO\\5 semestre\\Proyecto de Ciencia de datos\\nyc-taxi-time-prediction\\.venv\\Lib\\site-packages\\sklearn\\metrics\\_regression.py:492: FutureWarning: 'squared' is deprecated in version 1.4 and will be removed in 1.6. To calculate the root mean squared error, use the function'root_mean_squared_error'.\n",
      "  warnings.warn(\n",
      "2024/09/23 21:31:19 INFO mlflow.tracking._tracking_service.client: 🏃 View run victorious-hound-987 at: https://dagshub.com/diego-mercadoc/nyc-taxi-time-prediction.mlflow/#/experiments/0/runs/de72d79aae02472c824d2fc8789e551a.\n",
      "2024/09/23 21:31:19 INFO mlflow.tracking._tracking_service.client: 🧪 View experiment at: https://dagshub.com/diego-mercadoc/nyc-taxi-time-prediction.mlflow/#/experiments/0.\n",
      "c:\\Users\\diego\\OneDrive - ITESO\\ITESO\\5 semestre\\Proyecto de Ciencia de datos\\nyc-taxi-time-prediction\\.venv\\Lib\\site-packages\\sklearn\\metrics\\_regression.py:492: FutureWarning: 'squared' is deprecated in version 1.4 and will be removed in 1.6. To calculate the root mean squared error, use the function'root_mean_squared_error'.\n",
      "  warnings.warn(\n",
      "2024/09/23 21:31:24 INFO mlflow.tracking._tracking_service.client: 🏃 View run youthful-sloth-970 at: https://dagshub.com/diego-mercadoc/nyc-taxi-time-prediction.mlflow/#/experiments/0/runs/49e75c12944a4a14b5b495d8ede87d58.\n",
      "2024/09/23 21:31:24 INFO mlflow.tracking._tracking_service.client: 🧪 View experiment at: https://dagshub.com/diego-mercadoc/nyc-taxi-time-prediction.mlflow/#/experiments/0.\n",
      "c:\\Users\\diego\\OneDrive - ITESO\\ITESO\\5 semestre\\Proyecto de Ciencia de datos\\nyc-taxi-time-prediction\\.venv\\Lib\\site-packages\\sklearn\\metrics\\_regression.py:492: FutureWarning: 'squared' is deprecated in version 1.4 and will be removed in 1.6. To calculate the root mean squared error, use the function'root_mean_squared_error'.\n",
      "  warnings.warn(\n",
      "2024/09/23 21:31:31 INFO mlflow.tracking._tracking_service.client: 🏃 View run popular-mole-313 at: https://dagshub.com/diego-mercadoc/nyc-taxi-time-prediction.mlflow/#/experiments/0/runs/832fc3eabfaf47a19d8b209f081663d4.\n",
      "2024/09/23 21:31:31 INFO mlflow.tracking._tracking_service.client: 🧪 View experiment at: https://dagshub.com/diego-mercadoc/nyc-taxi-time-prediction.mlflow/#/experiments/0.\n",
      "c:\\Users\\diego\\OneDrive - ITESO\\ITESO\\5 semestre\\Proyecto de Ciencia de datos\\nyc-taxi-time-prediction\\.venv\\Lib\\site-packages\\sklearn\\metrics\\_regression.py:492: FutureWarning: 'squared' is deprecated in version 1.4 and will be removed in 1.6. To calculate the root mean squared error, use the function'root_mean_squared_error'.\n",
      "  warnings.warn(\n",
      "2024/09/23 21:31:38 INFO mlflow.tracking._tracking_service.client: 🏃 View run rogue-jay-84 at: https://dagshub.com/diego-mercadoc/nyc-taxi-time-prediction.mlflow/#/experiments/0/runs/a561445d6f434bc997b44d56e20c478a.\n",
      "2024/09/23 21:31:38 INFO mlflow.tracking._tracking_service.client: 🧪 View experiment at: https://dagshub.com/diego-mercadoc/nyc-taxi-time-prediction.mlflow/#/experiments/0.\n",
      "c:\\Users\\diego\\OneDrive - ITESO\\ITESO\\5 semestre\\Proyecto de Ciencia de datos\\nyc-taxi-time-prediction\\.venv\\Lib\\site-packages\\sklearn\\metrics\\_regression.py:492: FutureWarning: 'squared' is deprecated in version 1.4 and will be removed in 1.6. To calculate the root mean squared error, use the function'root_mean_squared_error'.\n",
      "  warnings.warn(\n",
      "2024/09/23 21:31:44 INFO mlflow.tracking._tracking_service.client: 🏃 View run crawling-cat-825 at: https://dagshub.com/diego-mercadoc/nyc-taxi-time-prediction.mlflow/#/experiments/0/runs/e78ffa6fc1614a4592dc0b77dac8c4c9.\n",
      "2024/09/23 21:31:44 INFO mlflow.tracking._tracking_service.client: 🧪 View experiment at: https://dagshub.com/diego-mercadoc/nyc-taxi-time-prediction.mlflow/#/experiments/0.\n",
      "c:\\Users\\diego\\OneDrive - ITESO\\ITESO\\5 semestre\\Proyecto de Ciencia de datos\\nyc-taxi-time-prediction\\.venv\\Lib\\site-packages\\sklearn\\metrics\\_regression.py:492: FutureWarning: 'squared' is deprecated in version 1.4 and will be removed in 1.6. To calculate the root mean squared error, use the function'root_mean_squared_error'.\n",
      "  warnings.warn(\n",
      "2024/09/23 21:31:49 INFO mlflow.tracking._tracking_service.client: 🏃 View run youthful-colt-975 at: https://dagshub.com/diego-mercadoc/nyc-taxi-time-prediction.mlflow/#/experiments/0/runs/fb5bd18937e645929b178d37d6dce5bf.\n",
      "2024/09/23 21:31:49 INFO mlflow.tracking._tracking_service.client: 🧪 View experiment at: https://dagshub.com/diego-mercadoc/nyc-taxi-time-prediction.mlflow/#/experiments/0.\n",
      "c:\\Users\\diego\\OneDrive - ITESO\\ITESO\\5 semestre\\Proyecto de Ciencia de datos\\nyc-taxi-time-prediction\\.venv\\Lib\\site-packages\\sklearn\\metrics\\_regression.py:492: FutureWarning: 'squared' is deprecated in version 1.4 and will be removed in 1.6. To calculate the root mean squared error, use the function'root_mean_squared_error'.\n",
      "  warnings.warn(\n",
      "2024/09/23 21:31:52 INFO mlflow.tracking._tracking_service.client: 🏃 View run sedate-dolphin-30 at: https://dagshub.com/diego-mercadoc/nyc-taxi-time-prediction.mlflow/#/experiments/0/runs/64adc52b3d9446b389a6cf8a5eaa1abd.\n",
      "2024/09/23 21:31:52 INFO mlflow.tracking._tracking_service.client: 🧪 View experiment at: https://dagshub.com/diego-mercadoc/nyc-taxi-time-prediction.mlflow/#/experiments/0.\n",
      "c:\\Users\\diego\\OneDrive - ITESO\\ITESO\\5 semestre\\Proyecto de Ciencia de datos\\nyc-taxi-time-prediction\\.venv\\Lib\\site-packages\\sklearn\\metrics\\_regression.py:492: FutureWarning: 'squared' is deprecated in version 1.4 and will be removed in 1.6. To calculate the root mean squared error, use the function'root_mean_squared_error'.\n",
      "  warnings.warn(\n",
      "2024/09/23 21:31:55 INFO mlflow.tracking._tracking_service.client: 🏃 View run melodic-jay-103 at: https://dagshub.com/diego-mercadoc/nyc-taxi-time-prediction.mlflow/#/experiments/0/runs/8ec34e78fbd9407080561b8bf69c35f7.\n",
      "2024/09/23 21:31:55 INFO mlflow.tracking._tracking_service.client: 🧪 View experiment at: https://dagshub.com/diego-mercadoc/nyc-taxi-time-prediction.mlflow/#/experiments/0.\n",
      "c:\\Users\\diego\\OneDrive - ITESO\\ITESO\\5 semestre\\Proyecto de Ciencia de datos\\nyc-taxi-time-prediction\\.venv\\Lib\\site-packages\\sklearn\\metrics\\_regression.py:492: FutureWarning: 'squared' is deprecated in version 1.4 and will be removed in 1.6. To calculate the root mean squared error, use the function'root_mean_squared_error'.\n",
      "  warnings.warn(\n",
      "2024/09/23 21:32:00 INFO mlflow.tracking._tracking_service.client: 🏃 View run treasured-hound-768 at: https://dagshub.com/diego-mercadoc/nyc-taxi-time-prediction.mlflow/#/experiments/0/runs/da048f752852473fafe63f4306d8b99a.\n",
      "2024/09/23 21:32:00 INFO mlflow.tracking._tracking_service.client: 🧪 View experiment at: https://dagshub.com/diego-mercadoc/nyc-taxi-time-prediction.mlflow/#/experiments/0.\n",
      "2024/09/23 21:32:04 WARNING mlflow.models.model: Model logged without a signature and input example. Please set `input_example` parameter when logging the model to auto infer the model signature.\n",
      "2024/09/23 21:32:07 INFO mlflow.tracking._tracking_service.client: 🏃 View run GradientBoostingRegressor at: https://dagshub.com/diego-mercadoc/nyc-taxi-time-prediction.mlflow/#/experiments/0/runs/ab49221be5e14a94a1810f6c583702fd.\n",
      "2024/09/23 21:32:07 INFO mlflow.tracking._tracking_service.client: 🧪 View experiment at: https://dagshub.com/diego-mercadoc/nyc-taxi-time-prediction.mlflow/#/experiments/0.\n",
      "c:\\Users\\diego\\OneDrive - ITESO\\ITESO\\5 semestre\\Proyecto de Ciencia de datos\\nyc-taxi-time-prediction\\.venv\\Lib\\site-packages\\sklearn\\metrics\\_regression.py:492: FutureWarning: 'squared' is deprecated in version 1.4 and will be removed in 1.6. To calculate the root mean squared error, use the function'root_mean_squared_error'.\n",
      "  warnings.warn(\n",
      "2024/09/23 21:32:09 INFO mlflow.tracking._tracking_service.client: 🏃 View run resilient-mouse-742 at: https://dagshub.com/diego-mercadoc/nyc-taxi-time-prediction.mlflow/#/experiments/0/runs/3044ab45b4f54ee299cb41ad2a812981.\n",
      "2024/09/23 21:32:09 INFO mlflow.tracking._tracking_service.client: 🧪 View experiment at: https://dagshub.com/diego-mercadoc/nyc-taxi-time-prediction.mlflow/#/experiments/0.\n",
      "c:\\Users\\diego\\OneDrive - ITESO\\ITESO\\5 semestre\\Proyecto de Ciencia de datos\\nyc-taxi-time-prediction\\.venv\\Lib\\site-packages\\sklearn\\metrics\\_regression.py:492: FutureWarning: 'squared' is deprecated in version 1.4 and will be removed in 1.6. To calculate the root mean squared error, use the function'root_mean_squared_error'.\n",
      "  warnings.warn(\n",
      "2024/09/23 21:32:12 INFO mlflow.tracking._tracking_service.client: 🏃 View run carefree-quail-272 at: https://dagshub.com/diego-mercadoc/nyc-taxi-time-prediction.mlflow/#/experiments/0/runs/d7c05fabe5f049f6af8ba80fed04a7f3.\n",
      "2024/09/23 21:32:12 INFO mlflow.tracking._tracking_service.client: 🧪 View experiment at: https://dagshub.com/diego-mercadoc/nyc-taxi-time-prediction.mlflow/#/experiments/0.\n",
      "c:\\Users\\diego\\OneDrive - ITESO\\ITESO\\5 semestre\\Proyecto de Ciencia de datos\\nyc-taxi-time-prediction\\.venv\\Lib\\site-packages\\sklearn\\metrics\\_regression.py:492: FutureWarning: 'squared' is deprecated in version 1.4 and will be removed in 1.6. To calculate the root mean squared error, use the function'root_mean_squared_error'.\n",
      "  warnings.warn(\n",
      "2024/09/23 21:32:14 INFO mlflow.tracking._tracking_service.client: 🏃 View run loud-calf-572 at: https://dagshub.com/diego-mercadoc/nyc-taxi-time-prediction.mlflow/#/experiments/0/runs/ccf247d5da9f4218830ca45d2f6d476f.\n",
      "2024/09/23 21:32:14 INFO mlflow.tracking._tracking_service.client: 🧪 View experiment at: https://dagshub.com/diego-mercadoc/nyc-taxi-time-prediction.mlflow/#/experiments/0.\n",
      "c:\\Users\\diego\\OneDrive - ITESO\\ITESO\\5 semestre\\Proyecto de Ciencia de datos\\nyc-taxi-time-prediction\\.venv\\Lib\\site-packages\\sklearn\\metrics\\_regression.py:492: FutureWarning: 'squared' is deprecated in version 1.4 and will be removed in 1.6. To calculate the root mean squared error, use the function'root_mean_squared_error'.\n",
      "  warnings.warn(\n",
      "2024/09/23 21:32:19 INFO mlflow.tracking._tracking_service.client: 🏃 View run receptive-sloth-419 at: https://dagshub.com/diego-mercadoc/nyc-taxi-time-prediction.mlflow/#/experiments/0/runs/e11a4325225e48b08948822b65f976e6.\n",
      "2024/09/23 21:32:19 INFO mlflow.tracking._tracking_service.client: 🧪 View experiment at: https://dagshub.com/diego-mercadoc/nyc-taxi-time-prediction.mlflow/#/experiments/0.\n",
      "c:\\Users\\diego\\OneDrive - ITESO\\ITESO\\5 semestre\\Proyecto de Ciencia de datos\\nyc-taxi-time-prediction\\.venv\\Lib\\site-packages\\sklearn\\metrics\\_regression.py:492: FutureWarning: 'squared' is deprecated in version 1.4 and will be removed in 1.6. To calculate the root mean squared error, use the function'root_mean_squared_error'.\n",
      "  warnings.warn(\n",
      "2024/09/23 21:32:41 INFO mlflow.tracking._tracking_service.client: 🏃 View run delightful-lamb-913 at: https://dagshub.com/diego-mercadoc/nyc-taxi-time-prediction.mlflow/#/experiments/0/runs/9724ea606f6a46f8ba21f7c324a79da3.\n",
      "2024/09/23 21:32:41 INFO mlflow.tracking._tracking_service.client: 🧪 View experiment at: https://dagshub.com/diego-mercadoc/nyc-taxi-time-prediction.mlflow/#/experiments/0.\n",
      "c:\\Users\\diego\\OneDrive - ITESO\\ITESO\\5 semestre\\Proyecto de Ciencia de datos\\nyc-taxi-time-prediction\\.venv\\Lib\\site-packages\\sklearn\\metrics\\_regression.py:492: FutureWarning: 'squared' is deprecated in version 1.4 and will be removed in 1.6. To calculate the root mean squared error, use the function'root_mean_squared_error'.\n",
      "  warnings.warn(\n",
      "2024/09/23 21:32:42 INFO mlflow.tracking._tracking_service.client: 🏃 View run bold-stoat-752 at: https://dagshub.com/diego-mercadoc/nyc-taxi-time-prediction.mlflow/#/experiments/0/runs/b508148db8844240b5ecd5985a2e608c.\n",
      "2024/09/23 21:32:42 INFO mlflow.tracking._tracking_service.client: 🧪 View experiment at: https://dagshub.com/diego-mercadoc/nyc-taxi-time-prediction.mlflow/#/experiments/0.\n",
      "c:\\Users\\diego\\OneDrive - ITESO\\ITESO\\5 semestre\\Proyecto de Ciencia de datos\\nyc-taxi-time-prediction\\.venv\\Lib\\site-packages\\sklearn\\metrics\\_regression.py:492: FutureWarning: 'squared' is deprecated in version 1.4 and will be removed in 1.6. To calculate the root mean squared error, use the function'root_mean_squared_error'.\n",
      "  warnings.warn(\n",
      "2024/09/23 21:32:43 INFO mlflow.tracking._tracking_service.client: 🏃 View run kindly-roo-652 at: https://dagshub.com/diego-mercadoc/nyc-taxi-time-prediction.mlflow/#/experiments/0/runs/d108999baf6a4eccb9452fd06dec950e.\n",
      "2024/09/23 21:32:43 INFO mlflow.tracking._tracking_service.client: 🧪 View experiment at: https://dagshub.com/diego-mercadoc/nyc-taxi-time-prediction.mlflow/#/experiments/0.\n",
      "c:\\Users\\diego\\OneDrive - ITESO\\ITESO\\5 semestre\\Proyecto de Ciencia de datos\\nyc-taxi-time-prediction\\.venv\\Lib\\site-packages\\sklearn\\metrics\\_regression.py:492: FutureWarning: 'squared' is deprecated in version 1.4 and will be removed in 1.6. To calculate the root mean squared error, use the function'root_mean_squared_error'.\n",
      "  warnings.warn(\n",
      "2024/09/23 21:32:47 INFO mlflow.tracking._tracking_service.client: 🏃 View run unruly-ox-837 at: https://dagshub.com/diego-mercadoc/nyc-taxi-time-prediction.mlflow/#/experiments/0/runs/c5461891cb544fa3aa733b2fa7c04163.\n",
      "2024/09/23 21:32:47 INFO mlflow.tracking._tracking_service.client: 🧪 View experiment at: https://dagshub.com/diego-mercadoc/nyc-taxi-time-prediction.mlflow/#/experiments/0.\n",
      "c:\\Users\\diego\\OneDrive - ITESO\\ITESO\\5 semestre\\Proyecto de Ciencia de datos\\nyc-taxi-time-prediction\\.venv\\Lib\\site-packages\\sklearn\\metrics\\_regression.py:492: FutureWarning: 'squared' is deprecated in version 1.4 and will be removed in 1.6. To calculate the root mean squared error, use the function'root_mean_squared_error'.\n",
      "  warnings.warn(\n",
      "2024/09/23 21:33:00 INFO mlflow.tracking._tracking_service.client: 🏃 View run blushing-ape-219 at: https://dagshub.com/diego-mercadoc/nyc-taxi-time-prediction.mlflow/#/experiments/0/runs/db25753607b3438094e367b6bd8e6b8b.\n",
      "2024/09/23 21:33:00 INFO mlflow.tracking._tracking_service.client: 🧪 View experiment at: https://dagshub.com/diego-mercadoc/nyc-taxi-time-prediction.mlflow/#/experiments/0.\n",
      "c:\\Users\\diego\\OneDrive - ITESO\\ITESO\\5 semestre\\Proyecto de Ciencia de datos\\nyc-taxi-time-prediction\\.venv\\Lib\\site-packages\\sklearn\\metrics\\_regression.py:492: FutureWarning: 'squared' is deprecated in version 1.4 and will be removed in 1.6. To calculate the root mean squared error, use the function'root_mean_squared_error'.\n",
      "  warnings.warn(\n",
      "2024/09/23 21:33:20 INFO mlflow.tracking._tracking_service.client: 🏃 View run funny-elk-107 at: https://dagshub.com/diego-mercadoc/nyc-taxi-time-prediction.mlflow/#/experiments/0/runs/74871748ef724ffe8a6aed20ed7bc857.\n",
      "2024/09/23 21:33:20 INFO mlflow.tracking._tracking_service.client: 🧪 View experiment at: https://dagshub.com/diego-mercadoc/nyc-taxi-time-prediction.mlflow/#/experiments/0.\n",
      "2024/09/23 21:33:23 WARNING mlflow.models.model: Model logged without a signature and input example. Please set `input_example` parameter when logging the model to auto infer the model signature.\n",
      "2024/09/23 21:33:31 INFO mlflow.tracking._tracking_service.client: 🏃 View run RandomForestRegressor at: https://dagshub.com/diego-mercadoc/nyc-taxi-time-prediction.mlflow/#/experiments/0/runs/872f3d3b6af14b8abe1564270dd24cda.\n",
      "2024/09/23 21:33:31 INFO mlflow.tracking._tracking_service.client: 🧪 View experiment at: https://dagshub.com/diego-mercadoc/nyc-taxi-time-prediction.mlflow/#/experiments/0.\n"
     ]
    }
   ],
   "source": [
    "# Entrenar los modelos\n",
    "rmse_gbr, run_id_gbr = train_gradient_boosting(X_train, y_train, X_val, y_val, dv)\n",
    "rmse_rfr, run_id_rfr = train_random_forest(X_train, y_train, X_val, y_val, dv)"
   ]
  },
  {
   "cell_type": "code",
   "execution_count": 35,
   "id": "c6a61f3b",
   "metadata": {},
   "outputs": [
    {
     "name": "stdout",
     "output_type": "stream",
     "text": [
      "RMSE GradientBoostingRegressor: 2.310325827593497\n",
      "RMSE RandomForestRegressor: 2.329380261101746\n"
     ]
    }
   ],
   "source": [
    "# Imprimir los RMSE obtenidos\n",
    "print(f\"RMSE GradientBoostingRegressor: {rmse_gbr}\")\n",
    "print(f\"RMSE RandomForestRegressor: {rmse_rfr}\")"
   ]
  },
  {
   "cell_type": "code",
   "execution_count": 36,
   "id": "7a41e193",
   "metadata": {},
   "outputs": [
    {
     "name": "stdout",
     "output_type": "stream",
     "text": [
      "Mejor modelo: GradientBoostingRegressor con RMSE: 2.310325827593497\n"
     ]
    }
   ],
   "source": [
    "# Determinar el mejor modelo\n",
    "if rmse_gbr < rmse_rfr:\n",
    "    best_rmse = rmse_gbr\n",
    "    best_model_name = \"GradientBoostingRegressor\"\n",
    "    best_run_id = run_id_gbr\n",
    "else:\n",
    "    best_rmse = rmse_rfr\n",
    "    best_model_name = \"RandomForestRegressor\"\n",
    "    best_run_id = run_id_rfr\n",
    "\n",
    "print(f\"Mejor modelo: {best_model_name} con RMSE: {best_rmse}\")"
   ]
  },
  {
   "cell_type": "markdown",
   "id": "a6c4c5d3",
   "metadata": {},
   "source": [
    "### Registrar el mejor modelo en MLflow y asignar el alias 'challenger'"
   ]
  },
  {
   "cell_type": "code",
   "execution_count": 37,
   "id": "a25b352e",
   "metadata": {},
   "outputs": [
    {
     "name": "stderr",
     "output_type": "stream",
     "text": [
      "Registered model 'nyc-taxi-model' already exists. Creating a new version of this model...\n",
      "2024/09/23 21:33:32 INFO mlflow.store.model_registry.abstract_store: Waiting up to 300 seconds for model version to finish creation. Model name: nyc-taxi-model, version 5\n",
      "Created version '5' of model 'nyc-taxi-model'.\n"
     ]
    }
   ],
   "source": [
    "# Registrar el nuevo modelo\n",
    "result = mlflow.register_model(\n",
    "    model_uri=f\"runs:/{best_run_id}/model\",\n",
    "    name=\"nyc-taxi-model\"\n",
    ")\n",
    "\n",
    "client = MlflowClient(tracking_uri=MLFLOW_TRACKING_URI)\n",
    "client.update_registered_model(\n",
    "    name=\"nyc-taxi-model\",\n",
    "    description=\"Modelo para predecir la duración de viajes en taxi en Nueva York\"\n",
    ")\n",
    "\n",
    "new_version = result.version\n",
    "\n",
    "# Asignar el alias 'challenger' al nuevo modelo\n",
    "client.set_registered_model_alias(\n",
    "    name=\"nyc-taxi-model\",\n",
    "    alias=\"challenger\",\n",
    "    version=new_version\n",
    ")"
   ]
  },
  {
   "cell_type": "markdown",
   "id": "246470e0",
   "metadata": {},
   "source": [
    "#### Descargar el conjunto de datos de marzo de 2024"
   ]
  },
  {
   "cell_type": "code",
   "execution_count": 38,
   "id": "43626be3",
   "metadata": {},
   "outputs": [
    {
     "name": "stderr",
     "output_type": "stream",
     "text": [
      "  % Total    % Received % Xferd  Average Speed   Time    Time     Time  Current\n",
      "                                 Dload  Upload   Total   Spent    Left  Speed\n",
      "\n",
      "  0     0    0     0    0     0      0      0 --:--:-- --:--:-- --:--:--     0\n",
      "100 1340k  100 1340k    0     0  5247k      0 --:--:-- --:--:-- --:--:-- 5297k\n"
     ]
    }
   ],
   "source": [
    "# Descargar los datos de marzo de 2024\n",
    "!curl -o ../data/green_tripdata_2024-03.parquet https://d37ci6vzurychx.cloudfront.net/trip-data/green_tripdata_2024-03.parquet"
   ]
  },
  {
   "cell_type": "markdown",
   "id": "c5f0b4c3",
   "metadata": {},
   "source": [
    "### Cargar los modelos 'champion' y 'challenger'"
   ]
  },
  {
   "cell_type": "code",
   "execution_count": 39,
   "id": "9e1f6eac",
   "metadata": {},
   "outputs": [
    {
     "data": {
      "application/vnd.jupyter.widget-view+json": {
       "model_id": "fe0ad2cc049b409a8ac69b416ef40a17",
       "version_major": 2,
       "version_minor": 0
      },
      "text/plain": [
       "Downloading artifacts:   0%|          | 0/5 [00:00<?, ?it/s]"
      ]
     },
     "metadata": {},
     "output_type": "display_data"
    },
    {
     "name": "stderr",
     "output_type": "stream",
     "text": [
      "2024/09/23 21:33:34 WARNING mlflow.utils.requirements_utils: Detected one or more mismatches between the model's dependencies and the current Python environment:\n",
      " - scikit-learn (current: 1.5.1, required: scikit-learn==1.5.2)\n",
      "To fix the mismatches, call `mlflow.pyfunc.get_model_dependencies(model_uri)` to fetch the model's environment and install dependencies using the resulting environment file.\n"
     ]
    },
    {
     "data": {
      "application/vnd.jupyter.widget-view+json": {
       "model_id": "2a65bb7417364a6dbb006352488213cb",
       "version_major": 2,
       "version_minor": 0
      },
      "text/plain": [
       "Downloading artifacts:   0%|          | 0/5 [00:00<?, ?it/s]"
      ]
     },
     "metadata": {},
     "output_type": "display_data"
    }
   ],
   "source": [
    "champion_model = mlflow.pyfunc.load_model(model_uri=\"models:/nyc-taxi-model@champion\")\n",
    "challenger_model = mlflow.pyfunc.load_model(model_uri=f\"models:/nyc-taxi-model/{new_version}\")"
   ]
  },
  {
   "cell_type": "markdown",
   "id": "e5945851",
   "metadata": {},
   "source": [
    "### Evaluar ambos modelos en el conjunto de prueba"
   ]
  },
  {
   "cell_type": "code",
   "execution_count": 40,
   "id": "62e433da",
   "metadata": {},
   "outputs": [],
   "source": [
    "# Leer el conjunto de prueba\n",
    "df_test = read_dataframe('../data/green_tripdata_2024-03.parquet')"
   ]
  },
  {
   "cell_type": "code",
   "execution_count": 41,
   "id": "c5947e4f",
   "metadata": {},
   "outputs": [],
   "source": [
    "# Preparar los datos de prueba\n",
    "def prepare_test_data(df_test, dv):\n",
    "    df_test['PU_DO'] = df_test['PULocationID'] + '_' + df_test['DOLocationID']\n",
    "    categorical = ['PU_DO']\n",
    "    numerical = ['trip_distance']\n",
    "\n",
    "    test_dicts = df_test[categorical + numerical].to_dict(orient='records')\n",
    "    X_test = dv.transform(test_dicts)\n",
    "    y_test = df_test['duration'].values\n",
    "\n",
    "    return X_test, y_test"
   ]
  },
  {
   "cell_type": "code",
   "execution_count": 42,
   "id": "9a06f108",
   "metadata": {},
   "outputs": [],
   "source": [
    "# Obtener X_test y y_test\n",
    "X_test, y_test = prepare_test_data(df_test, dv)"
   ]
  },
  {
   "cell_type": "code",
   "execution_count": 43,
   "id": "8037e989",
   "metadata": {},
   "outputs": [
    {
     "name": "stdout",
     "output_type": "stream",
     "text": [
      "Tiempo de ejecución del modelo champion: 0:00:00.168165\n",
      "RMSE Champion: 2.2814229402623813\n"
     ]
    },
    {
     "name": "stderr",
     "output_type": "stream",
     "text": [
      "c:\\Users\\diego\\OneDrive - ITESO\\ITESO\\5 semestre\\Proyecto de Ciencia de datos\\nyc-taxi-time-prediction\\.venv\\Lib\\site-packages\\sklearn\\metrics\\_regression.py:492: FutureWarning: 'squared' is deprecated in version 1.4 and will be removed in 1.6. To calculate the root mean squared error, use the function'root_mean_squared_error'.\n",
      "  warnings.warn(\n"
     ]
    }
   ],
   "source": [
    "# Evaluar el modelo champion\n",
    "start_time = datetime.now()\n",
    "\n",
    "y_pred_champion = champion_model.predict(X_test)\n",
    "rmse_champion = sqrt(mean_squared_error(y_test, y_pred_champion, squared=False))\n",
    "end_time = datetime.now()\n",
    "\n",
    "champion_time = end_time - start_time\n",
    "\n",
    "print(f\"Tiempo de ejecución del modelo champion: {champion_time}\")\n",
    "print(f\"RMSE Champion: {rmse_champion}\")"
   ]
  },
  {
   "cell_type": "code",
   "execution_count": 44,
   "id": "283ff555",
   "metadata": {},
   "outputs": [
    {
     "name": "stdout",
     "output_type": "stream",
     "text": [
      "Tiempo de ejecución del modelo challenger: 0:00:00.160416\n",
      "RMSE Challenger: 2.317518332546272\n"
     ]
    },
    {
     "name": "stderr",
     "output_type": "stream",
     "text": [
      "c:\\Users\\diego\\OneDrive - ITESO\\ITESO\\5 semestre\\Proyecto de Ciencia de datos\\nyc-taxi-time-prediction\\.venv\\Lib\\site-packages\\sklearn\\metrics\\_regression.py:492: FutureWarning: 'squared' is deprecated in version 1.4 and will be removed in 1.6. To calculate the root mean squared error, use the function'root_mean_squared_error'.\n",
      "  warnings.warn(\n"
     ]
    }
   ],
   "source": [
    "# Evaluar el modelo challenger\n",
    "start_time = datetime.now()\n",
    "\n",
    "y_pred_challenger = challenger_model.predict(X_test)\n",
    "rmse_challenger = sqrt(mean_squared_error(y_test, y_pred_challenger, squared=False))\n",
    "end_time = datetime.now()\n",
    "\n",
    "challenger_time = end_time - start_time\n",
    "\n",
    "print(f\"Tiempo de ejecución del modelo challenger: {challenger_time}\")\n",
    "print(f\"RMSE Challenger: {rmse_challenger}\")"
   ]
  },
  {
   "cell_type": "markdown",
   "id": "367a9e3c",
   "metadata": {},
   "source": [
    "### Decidir si promover el modelo 'challenger' a 'champion'"
   ]
  },
  {
   "cell_type": "code",
   "execution_count": 45,
   "id": "8a77cdb0",
   "metadata": {},
   "outputs": [
    {
     "name": "stdout",
     "output_type": "stream",
     "text": [
      "El modelo 'challenger' no superó al 'champion' y no será promovido.\n"
     ]
    }
   ],
   "source": [
    "if rmse_challenger < rmse_champion:\n",
    "    # Promover challenger a champion\n",
    "    client.set_registered_model_alias(\n",
    "        name=\"nyc-taxi-model\",\n",
    "        alias=\"champion\",\n",
    "        version=new_version\n",
    "    )\n",
    "    print(\"El modelo 'challenger' ha sido promovido a 'champion'.\")\n",
    "else:\n",
    "    print(\"El modelo 'challenger' no superó al 'champion' y no será promovido.\")"
   ]
  },
  {
   "cell_type": "markdown",
   "metadata": {},
   "source": [
    "# Análisis para Decidir la Promoción del Modelo Challenger \n",
    "### `(hice varios experimentos, por lo que mi champion es diferente al de la clase, por eso no promoví el challenger a champion)`\n",
    "\n",
    "### Resultados Obtenidos:\n",
    "\n",
    "- **RMSE del Modelo Champion**: **2.2814**\n",
    "- **RMSE del Modelo Challenger**: **2.3175**\n",
    "- **Tiempo de Predicción/inferencia del Modelo Champion**: **0:00:00.168165 segundos**\n",
    "- **Tiempo de Predicción/inferencia del Modelo Challenger**: **0:00:00.160416 segundos**\n",
    "\n",
    "---\n",
    "\n",
    "### 1. Rendimiento (RMSE):\n",
    "\n",
    "- El **modelo champion** tiene un RMSE **menor** que el **modelo challenger**, que es una mejor precisión en las predicciones.\n",
    "- La diferencia en RMSE es de **0.0361**, lo que creeeo que puede ser significarivo pero pues depende de contexto, me imagino, tendra que saber mas del contexto.\n",
    "\n",
    "**Conclusión:** En cuanto a de precisión, el **modelo champion** es mejor wuuuu.\n",
    "\n",
    "---\n",
    "\n",
    "### 2. Tiempo de Inferencia/entrenamiento:\n",
    "\n",
    "- El **modelo challenger** es **0.041 segundos** más rápido que el **modelo champion**.\n",
    "- Esto es una mejora de alrededor del **20%** en el tiempo.\n",
    "\n",
    "**Análisis:**\n",
    "\n",
    "- Si el sistema necesita predicciones en tiempo real y tiene muchas solicitudes, esta mejora en tiempo podría ser importante creo.\n",
    "- Si el tiempo de respuesta no es muuy importante, la mejora en velocidad puede no justificar una menor precisión.\n",
    "\n",
    "**Conclusión:** Aunque el **modelo challenger** es más rápido, la diferencia en tiempo es mínima y debe verse y evaluar si es muy importaante para los objetivos del contexto de los taxiss.\n",
    "\n",
    "---\n",
    "\n",
    "### 3. Complejidad del Modelo y Uso de Recursos:\n",
    "\n",
    "- **Modelo Champion:** Podría ser más complejo o tener hiperparámetros que aumentan su capacidad predictiva.\n",
    "- **Modelo Challenger:** Puede ser más sencillo o estar optimizado para velocidad.\n",
    "\n",
    "**Análisis:**\n",
    "\n",
    "- Un modelo menos complejo es más fácil de mantener y deployearr.\n",
    "- Si la complejidad extra del **modelo champion** no afecta muucho a los recursos, este factor no es comoo muy determinante o important.\n",
    "\n",
    "**Conclusión:** Si los recursos y la complejidad no son limitantes, el **modelo champion** sigue siendo preferible por su mayor precisión.\n",
    "\n",
    "---\n",
    "\n",
    "### 4. Hiperparámetros y Generalización:\n",
    "\n",
    "- **Modelo Challenger:** Revisar si los hiperparámetros seleccionados permiten una mejor generalización.\n",
    "- **Modelo Champion:** Asegurarse de que no esté overfitteado al los datos de train.\n",
    "\n",
    "**Análisis:**\n",
    "\n",
    "- Evaluar otras métricas como MAE (Error Absoluto Medio).\n",
    "- Realizar cross validation adicional para verificar la estabilidad del modelo.\n",
    "\n",
    "**Conclusión:** No hay evidencia de overfitteao en el **modelo champion**; su mejor RMSE lo mantiene como la mejor opción.\n",
    "\n",
    "---\n",
    "\n",
    "### 5. Impacto en el supuesto negocio/empresa y Requerimientos:\n",
    "\n",
    "- **Precisión vs. Velocidad:** Determinar si el eonteexto del negociuo valora más la precisión o la velocidad de respuesta.\n",
    "- **Experiencia del Usuario:** Una mejora en el tiempo de respuesta mejora significativamente la experiencia del usuario.\n",
    "- **Costos y Riesgos:** Cambiar el modelo en producción implica costos y riesgos asociados.\n",
    "\n",
    "**Conclusión:** Si la precisión es más importants y la mejora en velocidad no tiene un impacto muy importante/relevante, es preferible mantener el **modelo champion**.\n",
    "\n",
    "---\n",
    "\n",
    "### **Decisión Final:**\n",
    "\n",
    "**No se recomienda promover el modelo challenger a champion en este momento.**\n",
    "\n",
    "---\n",
    "\n",
    "### **Justificación:**\n",
    "\n",
    "- **Mayor Precisión del Champion:** Ofrece predicciones más exactas, que para la satisfacción del cliente (QUE EL CLIENTE ES LA GAS DEL NEGOCIO) y confiabilidad del servicio.\n",
    "- **Diferencia de Tiempo Mínima:** La mejora en tiempo de inferencia del challenger es mínima y no compensa la pérdida de precisión.\n",
    "- **Riesgos Asociados:** Cambiar el modelo podría introducir riesgos sin beneficios que valgan la oena.\n",
    "\n",
    "---\n",
    "\n",
    "### **Acciones como a futuro:**\n",
    "\n",
    "- **Optimización Continua:** ver otras técnicas o ajustar hiperparámetros para mejorar futuros modelos challengers.\n",
    "- **Monitoreo Constante:** evr el desempeño de ambos modelos, ya que cambios en los datos podrían alterar su rendimiento.\n",
    "- **Consulta con el Negocio:** Confirmar si los requerimientos podrían cambiar, haciendo que la velocidad sea más importante.\n",
    "\n",
    "---\n",
    "\n",
    "**POSDATA PROFE:** La decisión se basa en un análisis de los resultados y pues falta saber mas sobre los objetivos del negocio/contexto.\n"
   ]
  }
 ],
 "metadata": {
  "kernelspec": {
   "display_name": ".venv",
   "language": "python",
   "name": "python3"
  },
  "language_info": {
   "codemirror_mode": {
    "name": "ipython",
    "version": 3
   },
   "file_extension": ".py",
   "mimetype": "text/x-python",
   "name": "python",
   "nbconvert_exporter": "python",
   "pygments_lexer": "ipython3",
   "version": "3.11.8"
  }
 },
 "nbformat": 4,
 "nbformat_minor": 2
}
