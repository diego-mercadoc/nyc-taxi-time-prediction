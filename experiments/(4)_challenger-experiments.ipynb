{
 "cells": [
  {
   "cell_type": "markdown",
   "id": "aa3a12a1",
   "metadata": {},
   "source": [
    "## Experimentos con Gradient Boosting y Random Forest\n",
    "\n",
    "### Diego Mercado Coello\n",
    "### # de expediente: 745441"
   ]
  },
  {
   "cell_type": "code",
   "execution_count": 1,
   "id": "292f2c4a",
   "metadata": {},
   "outputs": [],
   "source": [
    "import pandas as pd\n",
    "import numpy as np\n",
    "import pickle\n",
    "from sklearn.feature_extraction import DictVectorizer\n",
    "from sklearn.metrics import mean_squared_error\n",
    "from sklearn.model_selection import RandomizedSearchCV, ParameterSampler\n",
    "from sklearn.ensemble import GradientBoostingRegressor, RandomForestRegressor\n",
    "import mlflow\n",
    "from mlflow import MlflowClient\n",
    "from scipy.stats import randint, uniform\n",
    "import dagshub\n",
    "from dagshub import get_repo_bucket_client\n",
    "from datetime import datetime\n",
    "from math import sqrt\n",
    "import pathlib\n"
   ]
  },
  {
   "cell_type": "code",
   "execution_count": 2,
   "id": "7b0c3f5e",
   "metadata": {},
   "outputs": [
    {
     "data": {
      "text/html": [
       "<pre style=\"white-space:pre;overflow-x:auto;line-height:normal;font-family:Menlo,'DejaVu Sans Mono',consolas,'Courier New',monospace\">Accessing as diego-mercadoc\n",
       "</pre>\n"
      ],
      "text/plain": [
       "Accessing as diego-mercadoc\n"
      ]
     },
     "metadata": {},
     "output_type": "display_data"
    },
    {
     "data": {
      "text/html": [
       "<pre style=\"white-space:pre;overflow-x:auto;line-height:normal;font-family:Menlo,'DejaVu Sans Mono',consolas,'Courier New',monospace\">Initialized MLflow to track repo <span style=\"color: #008000; text-decoration-color: #008000\">\"diego-mercadoc/nyc-taxi-time-prediction\"</span>\n",
       "</pre>\n"
      ],
      "text/plain": [
       "Initialized MLflow to track repo \u001b[32m\"diego-mercadoc/nyc-taxi-time-prediction\"\u001b[0m\n"
      ]
     },
     "metadata": {},
     "output_type": "display_data"
    },
    {
     "data": {
      "text/html": [
       "<pre style=\"white-space:pre;overflow-x:auto;line-height:normal;font-family:Menlo,'DejaVu Sans Mono',consolas,'Courier New',monospace\">Repository diego-mercadoc/nyc-taxi-time-prediction initialized!\n",
       "</pre>\n"
      ],
      "text/plain": [
       "Repository diego-mercadoc/nyc-taxi-time-prediction initialized!\n"
      ]
     },
     "metadata": {},
     "output_type": "display_data"
    },
    {
     "name": "stdout",
     "output_type": "stream",
     "text": [
      "https://dagshub.com/diego-mercadoc/nyc-taxi-time-prediction.mlflow\n"
     ]
    },
    {
     "data": {
      "text/plain": [
       "<Experiment: artifact_location='mlflow-artifacts:/4a2f89adc0ff477ead9bc8f38ff1a8ba', creation_time=1726630128698, experiment_id='0', last_update_time=1726630128698, lifecycle_stage='active', name='nyc-taxi-experiment', tags={}>"
      ]
     },
     "execution_count": 2,
     "metadata": {},
     "output_type": "execute_result"
    }
   ],
   "source": [
    "# Configurar DAGsHub como el tracking server de MLflow\n",
    "dagshub.init(url=\"https://dagshub.com/diego-mercadoc/nyc-taxi-time-prediction\", mlflow=True)\n",
    "\n",
    "MLFLOW_TRACKING_URI = mlflow.get_tracking_uri()\n",
    "print(MLFLOW_TRACKING_URI)\n",
    "\n",
    "mlflow.set_tracking_uri(MLFLOW_TRACKING_URI)\n",
    "mlflow.set_experiment(experiment_name=\"nyc-taxi-experiment\")"
   ]
  },
  {
   "cell_type": "code",
   "execution_count": 3,
   "id": "77849eec",
   "metadata": {},
   "outputs": [],
   "source": [
    "# Definir función para cargar los datos\n",
    "def read_dataframe(filename):\n",
    "    df = pd.read_parquet(filename)\n",
    "\n",
    "    df['duration'] = df.lpep_dropoff_datetime - df.lpep_pickup_datetime\n",
    "    df['duration'] = df['duration'].dt.total_seconds() / 60\n",
    "\n",
    "    df = df[(df.duration >= 1) & (df.duration <= 60)]\n",
    "\n",
    "    categorical = ['PULocationID', 'DOLocationID']\n",
    "    df[categorical] = df[categorical].astype(str)\n",
    "\n",
    "    return df"
   ]
  },
  {
   "cell_type": "code",
   "execution_count": 4,
   "id": "a5c0d58e",
   "metadata": {},
   "outputs": [],
   "source": [
    "# Cargar los datos de entrenamiento y validación\n",
    "df_train = read_dataframe('../data/green_tripdata_2024-01.parquet')\n",
    "df_val = read_dataframe('../data/green_tripdata_2024-02.parquet')"
   ]
  },
  {
   "cell_type": "code",
   "execution_count": 5,
   "id": "1b8b3e23",
   "metadata": {},
   "outputs": [],
   "source": [
    "# Definir función para preprocesar los datos (Feature Engineering)\n",
    "def preprocess_data(df_train, df_val):\n",
    "    df_train['PU_DO'] = df_train['PULocationID'] + '_' + df_train['DOLocationID']\n",
    "    df_val['PU_DO'] = df_val['PULocationID'] + '_' + df_val['DOLocationID']\n",
    "\n",
    "    categorical = ['PU_DO']\n",
    "    numerical = ['trip_distance']\n",
    "    dv = DictVectorizer()\n",
    "\n",
    "    train_dicts = df_train[categorical + numerical].to_dict(orient='records')\n",
    "    X_train = dv.fit_transform(train_dicts)\n",
    "\n",
    "    val_dicts = df_val[categorical + numerical].to_dict(orient='records')\n",
    "    X_val = dv.transform(val_dicts)\n",
    "\n",
    "    y_train = df_train['duration'].values\n",
    "    y_val = df_val['duration'].values\n",
    "\n",
    "    return X_train, X_val, y_train, y_val, dv"
   ]
  },
  {
   "cell_type": "code",
   "execution_count": 6,
   "id": "b3a0efbe",
   "metadata": {},
   "outputs": [],
   "source": [
    "# Preprocesar los datos\n",
    "X_train, X_val, y_train, y_val, dv = preprocess_data(df_train, df_val)"
   ]
  },
  {
   "cell_type": "code",
   "execution_count": 7,
   "id": "a9509cde",
   "metadata": {},
   "outputs": [
    {
     "data": {
      "text/html": [
       "<pre style=\"white-space:pre;overflow-x:auto;line-height:normal;font-family:Menlo,'DejaVu Sans Mono',consolas,'Courier New',monospace\">Client created. Use the name of the repo <span style=\"font-weight: bold\">(</span>nyc-taxi-time-prediction<span style=\"font-weight: bold\">)</span> as the name of the bucket\n",
       "</pre>\n"
      ],
      "text/plain": [
       "Client created. Use the name of the repo \u001b[1m(\u001b[0mnyc-taxi-time-prediction\u001b[1m)\u001b[0m as the name of the bucket\n"
      ]
     },
     "metadata": {},
     "output_type": "display_data"
    }
   ],
   "source": [
    "# Subir los datasets a DAGsHub Storage\n",
    "s3 = get_repo_bucket_client(\"diego-mercadoc/nyc-taxi-time-prediction\")\n",
    "\n",
    "# Upload training data\n",
    "s3.upload_file(\n",
    "    Bucket=\"nyc-taxi-time-prediction\",\n",
    "    Filename=\"../data/green_tripdata_2024-01.parquet\",\n",
    "    Key=\"train_data.parquet\",\n",
    ")\n",
    "\n",
    "# Upload validation data\n",
    "s3.upload_file(\n",
    "    Bucket=\"nyc-taxi-time-prediction\",\n",
    "    Filename=\"../data/green_tripdata_2024-02.parquet\",\n",
    "    Key=\"eval_data.parquet\",\n",
    ")"
   ]
  },
  {
   "cell_type": "code",
   "execution_count": 8,
   "id": "85789f03",
   "metadata": {},
   "outputs": [],
   "source": [
    "# Definir función para entrenar Gradient Boosting con runs anidados\n",
    "def train_gradient_boosting(X_train, y_train, X_val, y_val, dv):\n",
    "    from sklearn.model_selection import ParameterSampler\n",
    "    gb_params = {\n",
    "        'n_estimators': randint(50, 200),\n",
    "        'learning_rate': uniform(0.01, 0.3),\n",
    "        'max_depth': randint(3, 10)\n",
    "    }\n",
    "    param_distributions = list(ParameterSampler(gb_params, n_iter=10, random_state=42))\n",
    "    best_rmse = float('inf')\n",
    "    best_model = None\n",
    "    best_params = None\n",
    "    with mlflow.start_run(run_name=\"GradientBoostingRegressor\") as parent_run:\n",
    "        mlflow.set_tag(\"model_family\", \"GradientBoostingRegressor\")\n",
    "        for params in param_distributions:\n",
    "            with mlflow.start_run(nested=True):\n",
    "                mlflow.log_params(params)\n",
    "                model = GradientBoostingRegressor(**params)\n",
    "                model.fit(X_train, y_train)\n",
    "                y_pred = model.predict(X_val)\n",
    "                rmse = mean_squared_error(y_val, y_pred, squared=False)\n",
    "                mlflow.log_metric(\"rmse\", rmse)\n",
    "                if rmse < best_rmse:\n",
    "                    best_rmse = rmse\n",
    "                    best_model = model\n",
    "                    best_params = params\n",
    "                    best_run_id = mlflow.active_run().info.run_id\n",
    "        # Loguear el mejor modelo en el run padre\n",
    "        mlflow.log_params(best_params)\n",
    "        mlflow.log_metric(\"best_rmse\", best_rmse)\n",
    "        mlflow.sklearn.log_model(best_model, artifact_path=\"model\")\n",
    "        # Log preprocessor\n",
    "        pathlib.Path(\"models\").mkdir(exist_ok=True)\n",
    "        with open(\"models/preprocessor.b\", \"wb\") as f_out:\n",
    "            pickle.dump(dv, f_out)\n",
    "        mlflow.log_artifact(\"models/preprocessor.b\", artifact_path=\"preprocessor\")\n",
    "    return best_rmse, parent_run.info.run_id"
   ]
  },
  {
   "cell_type": "markdown",
   "id": "3f1bd0c0",
   "metadata": {},
   "source": [
    "### Definir función para entrenar Random Forest con runs anidados"
   ]
  },
  {
   "cell_type": "code",
   "execution_count": 9,
   "id": "54a87231",
   "metadata": {},
   "outputs": [],
   "source": [
    "def train_random_forest(X_train, y_train, X_val, y_val, dv):\n",
    "    from sklearn.model_selection import ParameterSampler\n",
    "    rf_params = {\n",
    "        'n_estimators': randint(50, 200),\n",
    "        'max_depth': randint(3, 20),\n",
    "        'max_features': ['sqrt', 'log2', None]\n",
    "    }\n",
    "    param_distributions = list(ParameterSampler(rf_params, n_iter=10, random_state=42))\n",
    "    best_rmse = float('inf')\n",
    "    best_model = None\n",
    "    best_params = None\n",
    "    with mlflow.start_run(run_name=\"RandomForestRegressor\") as parent_run:\n",
    "        mlflow.set_tag(\"model_family\", \"RandomForestRegressor\")\n",
    "        for params in param_distributions:\n",
    "            with mlflow.start_run(nested=True):\n",
    "                mlflow.log_params(params)\n",
    "                model = RandomForestRegressor(**params)\n",
    "                model.fit(X_train, y_train)\n",
    "                y_pred = model.predict(X_val)\n",
    "                rmse = mean_squared_error(y_val, y_pred, squared=False)\n",
    "                mlflow.log_metric(\"rmse\", rmse)\n",
    "                if rmse < best_rmse:\n",
    "                    best_rmse = rmse\n",
    "                    best_model = model\n",
    "                    best_params = params\n",
    "                    best_run_id = mlflow.active_run().info.run_id\n",
    "        # Loguear el mejor modelo en el run padre\n",
    "        mlflow.log_params(best_params)\n",
    "        mlflow.log_metric(\"best_rmse\", best_rmse)\n",
    "        mlflow.sklearn.log_model(best_model, artifact_path=\"model\")\n",
    "        # Log preprocessor\n",
    "        pathlib.Path(\"models\").mkdir(exist_ok=True)\n",
    "        with open(\"models/preprocessor.b\", \"wb\") as f_out:\n",
    "            pickle.dump(dv, f_out)\n",
    "        mlflow.log_artifact(\"models/preprocessor.b\", artifact_path=\"preprocessor\")\n",
    "    return best_rmse, parent_run.info.run_id"
   ]
  },
  {
   "cell_type": "code",
   "execution_count": 10,
   "id": "343ef218",
   "metadata": {},
   "outputs": [
    {
     "name": "stderr",
     "output_type": "stream",
     "text": [
      "c:\\Users\\diego\\OneDrive - ITESO\\ITESO\\5 semestre\\Proyecto de Ciencia de datos\\nyc-taxi-time-prediction\\.venv\\Lib\\site-packages\\sklearn\\metrics\\_regression.py:492: FutureWarning: 'squared' is deprecated in version 1.4 and will be removed in 1.6. To calculate the root mean squared error, use the function'root_mean_squared_error'.\n",
      "  warnings.warn(\n",
      "2024/09/23 20:22:41 INFO mlflow.tracking._tracking_service.client: 🏃 View run chill-tern-104 at: https://dagshub.com/diego-mercadoc/nyc-taxi-time-prediction.mlflow/#/experiments/0/runs/d7b71f9171bd43839a806ad392c9bd22.\n",
      "2024/09/23 20:22:41 INFO mlflow.tracking._tracking_service.client: 🧪 View experiment at: https://dagshub.com/diego-mercadoc/nyc-taxi-time-prediction.mlflow/#/experiments/0.\n",
      "c:\\Users\\diego\\OneDrive - ITESO\\ITESO\\5 semestre\\Proyecto de Ciencia de datos\\nyc-taxi-time-prediction\\.venv\\Lib\\site-packages\\sklearn\\metrics\\_regression.py:492: FutureWarning: 'squared' is deprecated in version 1.4 and will be removed in 1.6. To calculate the root mean squared error, use the function'root_mean_squared_error'.\n",
      "  warnings.warn(\n",
      "2024/09/23 20:22:44 INFO mlflow.tracking._tracking_service.client: 🏃 View run classy-sow-747 at: https://dagshub.com/diego-mercadoc/nyc-taxi-time-prediction.mlflow/#/experiments/0/runs/3cc46a5e19c54caca5fac63c60518697.\n",
      "2024/09/23 20:22:44 INFO mlflow.tracking._tracking_service.client: 🧪 View experiment at: https://dagshub.com/diego-mercadoc/nyc-taxi-time-prediction.mlflow/#/experiments/0.\n",
      "c:\\Users\\diego\\OneDrive - ITESO\\ITESO\\5 semestre\\Proyecto de Ciencia de datos\\nyc-taxi-time-prediction\\.venv\\Lib\\site-packages\\sklearn\\metrics\\_regression.py:492: FutureWarning: 'squared' is deprecated in version 1.4 and will be removed in 1.6. To calculate the root mean squared error, use the function'root_mean_squared_error'.\n",
      "  warnings.warn(\n",
      "2024/09/23 20:22:49 INFO mlflow.tracking._tracking_service.client: 🏃 View run unleashed-worm-964 at: https://dagshub.com/diego-mercadoc/nyc-taxi-time-prediction.mlflow/#/experiments/0/runs/cbb5852b672a46e7930c5844037d39c9.\n",
      "2024/09/23 20:22:49 INFO mlflow.tracking._tracking_service.client: 🧪 View experiment at: https://dagshub.com/diego-mercadoc/nyc-taxi-time-prediction.mlflow/#/experiments/0.\n",
      "c:\\Users\\diego\\OneDrive - ITESO\\ITESO\\5 semestre\\Proyecto de Ciencia de datos\\nyc-taxi-time-prediction\\.venv\\Lib\\site-packages\\sklearn\\metrics\\_regression.py:492: FutureWarning: 'squared' is deprecated in version 1.4 and will be removed in 1.6. To calculate the root mean squared error, use the function'root_mean_squared_error'.\n",
      "  warnings.warn(\n",
      "2024/09/23 20:22:56 INFO mlflow.tracking._tracking_service.client: 🏃 View run efficient-zebra-525 at: https://dagshub.com/diego-mercadoc/nyc-taxi-time-prediction.mlflow/#/experiments/0/runs/69eb76f5f6854fb48b78b206134a502e.\n",
      "2024/09/23 20:22:56 INFO mlflow.tracking._tracking_service.client: 🧪 View experiment at: https://dagshub.com/diego-mercadoc/nyc-taxi-time-prediction.mlflow/#/experiments/0.\n",
      "c:\\Users\\diego\\OneDrive - ITESO\\ITESO\\5 semestre\\Proyecto de Ciencia de datos\\nyc-taxi-time-prediction\\.venv\\Lib\\site-packages\\sklearn\\metrics\\_regression.py:492: FutureWarning: 'squared' is deprecated in version 1.4 and will be removed in 1.6. To calculate the root mean squared error, use the function'root_mean_squared_error'.\n",
      "  warnings.warn(\n",
      "2024/09/23 20:23:04 INFO mlflow.tracking._tracking_service.client: 🏃 View run merciful-gull-78 at: https://dagshub.com/diego-mercadoc/nyc-taxi-time-prediction.mlflow/#/experiments/0/runs/75ae6c960d6d483086e1a3551a4349bb.\n",
      "2024/09/23 20:23:04 INFO mlflow.tracking._tracking_service.client: 🧪 View experiment at: https://dagshub.com/diego-mercadoc/nyc-taxi-time-prediction.mlflow/#/experiments/0.\n",
      "c:\\Users\\diego\\OneDrive - ITESO\\ITESO\\5 semestre\\Proyecto de Ciencia de datos\\nyc-taxi-time-prediction\\.venv\\Lib\\site-packages\\sklearn\\metrics\\_regression.py:492: FutureWarning: 'squared' is deprecated in version 1.4 and will be removed in 1.6. To calculate the root mean squared error, use the function'root_mean_squared_error'.\n",
      "  warnings.warn(\n",
      "2024/09/23 20:23:09 INFO mlflow.tracking._tracking_service.client: 🏃 View run persistent-sloth-586 at: https://dagshub.com/diego-mercadoc/nyc-taxi-time-prediction.mlflow/#/experiments/0/runs/0478d26cd1d8487c8f1066e9e449cc3e.\n",
      "2024/09/23 20:23:09 INFO mlflow.tracking._tracking_service.client: 🧪 View experiment at: https://dagshub.com/diego-mercadoc/nyc-taxi-time-prediction.mlflow/#/experiments/0.\n",
      "c:\\Users\\diego\\OneDrive - ITESO\\ITESO\\5 semestre\\Proyecto de Ciencia de datos\\nyc-taxi-time-prediction\\.venv\\Lib\\site-packages\\sklearn\\metrics\\_regression.py:492: FutureWarning: 'squared' is deprecated in version 1.4 and will be removed in 1.6. To calculate the root mean squared error, use the function'root_mean_squared_error'.\n",
      "  warnings.warn(\n",
      "2024/09/23 20:23:13 INFO mlflow.tracking._tracking_service.client: 🏃 View run unequaled-sheep-488 at: https://dagshub.com/diego-mercadoc/nyc-taxi-time-prediction.mlflow/#/experiments/0/runs/118722d210464ca69f99e330608129f4.\n",
      "2024/09/23 20:23:13 INFO mlflow.tracking._tracking_service.client: 🧪 View experiment at: https://dagshub.com/diego-mercadoc/nyc-taxi-time-prediction.mlflow/#/experiments/0.\n",
      "c:\\Users\\diego\\OneDrive - ITESO\\ITESO\\5 semestre\\Proyecto de Ciencia de datos\\nyc-taxi-time-prediction\\.venv\\Lib\\site-packages\\sklearn\\metrics\\_regression.py:492: FutureWarning: 'squared' is deprecated in version 1.4 and will be removed in 1.6. To calculate the root mean squared error, use the function'root_mean_squared_error'.\n",
      "  warnings.warn(\n",
      "2024/09/23 20:23:16 INFO mlflow.tracking._tracking_service.client: 🏃 View run ambitious-pig-340 at: https://dagshub.com/diego-mercadoc/nyc-taxi-time-prediction.mlflow/#/experiments/0/runs/269495214a6445ea9c0648920cbb6aa5.\n",
      "2024/09/23 20:23:16 INFO mlflow.tracking._tracking_service.client: 🧪 View experiment at: https://dagshub.com/diego-mercadoc/nyc-taxi-time-prediction.mlflow/#/experiments/0.\n",
      "c:\\Users\\diego\\OneDrive - ITESO\\ITESO\\5 semestre\\Proyecto de Ciencia de datos\\nyc-taxi-time-prediction\\.venv\\Lib\\site-packages\\sklearn\\metrics\\_regression.py:492: FutureWarning: 'squared' is deprecated in version 1.4 and will be removed in 1.6. To calculate the root mean squared error, use the function'root_mean_squared_error'.\n",
      "  warnings.warn(\n",
      "2024/09/23 20:23:18 INFO mlflow.tracking._tracking_service.client: 🏃 View run painted-pig-939 at: https://dagshub.com/diego-mercadoc/nyc-taxi-time-prediction.mlflow/#/experiments/0/runs/e0e88c3c931a4caaaae3fff105281bf9.\n",
      "2024/09/23 20:23:18 INFO mlflow.tracking._tracking_service.client: 🧪 View experiment at: https://dagshub.com/diego-mercadoc/nyc-taxi-time-prediction.mlflow/#/experiments/0.\n",
      "c:\\Users\\diego\\OneDrive - ITESO\\ITESO\\5 semestre\\Proyecto de Ciencia de datos\\nyc-taxi-time-prediction\\.venv\\Lib\\site-packages\\sklearn\\metrics\\_regression.py:492: FutureWarning: 'squared' is deprecated in version 1.4 and will be removed in 1.6. To calculate the root mean squared error, use the function'root_mean_squared_error'.\n",
      "  warnings.warn(\n",
      "2024/09/23 20:23:23 INFO mlflow.tracking._tracking_service.client: 🏃 View run painted-snake-384 at: https://dagshub.com/diego-mercadoc/nyc-taxi-time-prediction.mlflow/#/experiments/0/runs/cfd2a64bd5c34d1c8a48279da8802da8.\n",
      "2024/09/23 20:23:23 INFO mlflow.tracking._tracking_service.client: 🧪 View experiment at: https://dagshub.com/diego-mercadoc/nyc-taxi-time-prediction.mlflow/#/experiments/0.\n",
      "2024/09/23 20:23:29 WARNING mlflow.models.model: Model logged without a signature and input example. Please set `input_example` parameter when logging the model to auto infer the model signature.\n",
      "2024/09/23 20:23:33 INFO mlflow.tracking._tracking_service.client: 🏃 View run GradientBoostingRegressor at: https://dagshub.com/diego-mercadoc/nyc-taxi-time-prediction.mlflow/#/experiments/0/runs/b314f4666d0e4cd2a9550ae39379840c.\n",
      "2024/09/23 20:23:33 INFO mlflow.tracking._tracking_service.client: 🧪 View experiment at: https://dagshub.com/diego-mercadoc/nyc-taxi-time-prediction.mlflow/#/experiments/0.\n",
      "c:\\Users\\diego\\OneDrive - ITESO\\ITESO\\5 semestre\\Proyecto de Ciencia de datos\\nyc-taxi-time-prediction\\.venv\\Lib\\site-packages\\sklearn\\metrics\\_regression.py:492: FutureWarning: 'squared' is deprecated in version 1.4 and will be removed in 1.6. To calculate the root mean squared error, use the function'root_mean_squared_error'.\n",
      "  warnings.warn(\n",
      "2024/09/23 20:23:35 INFO mlflow.tracking._tracking_service.client: 🏃 View run rogue-moth-196 at: https://dagshub.com/diego-mercadoc/nyc-taxi-time-prediction.mlflow/#/experiments/0/runs/5be70285ecce462c94d15184aa143859.\n",
      "2024/09/23 20:23:35 INFO mlflow.tracking._tracking_service.client: 🧪 View experiment at: https://dagshub.com/diego-mercadoc/nyc-taxi-time-prediction.mlflow/#/experiments/0.\n",
      "c:\\Users\\diego\\OneDrive - ITESO\\ITESO\\5 semestre\\Proyecto de Ciencia de datos\\nyc-taxi-time-prediction\\.venv\\Lib\\site-packages\\sklearn\\metrics\\_regression.py:492: FutureWarning: 'squared' is deprecated in version 1.4 and will be removed in 1.6. To calculate the root mean squared error, use the function'root_mean_squared_error'.\n",
      "  warnings.warn(\n",
      "2024/09/23 20:23:37 INFO mlflow.tracking._tracking_service.client: 🏃 View run puzzled-gull-713 at: https://dagshub.com/diego-mercadoc/nyc-taxi-time-prediction.mlflow/#/experiments/0/runs/1ea76fddebb74320af92d00ce48344c4.\n",
      "2024/09/23 20:23:37 INFO mlflow.tracking._tracking_service.client: 🧪 View experiment at: https://dagshub.com/diego-mercadoc/nyc-taxi-time-prediction.mlflow/#/experiments/0.\n",
      "c:\\Users\\diego\\OneDrive - ITESO\\ITESO\\5 semestre\\Proyecto de Ciencia de datos\\nyc-taxi-time-prediction\\.venv\\Lib\\site-packages\\sklearn\\metrics\\_regression.py:492: FutureWarning: 'squared' is deprecated in version 1.4 and will be removed in 1.6. To calculate the root mean squared error, use the function'root_mean_squared_error'.\n",
      "  warnings.warn(\n",
      "2024/09/23 20:23:39 INFO mlflow.tracking._tracking_service.client: 🏃 View run bouncy-frog-373 at: https://dagshub.com/diego-mercadoc/nyc-taxi-time-prediction.mlflow/#/experiments/0/runs/e04ebe4919814b06b53728521e4af044.\n",
      "2024/09/23 20:23:39 INFO mlflow.tracking._tracking_service.client: 🧪 View experiment at: https://dagshub.com/diego-mercadoc/nyc-taxi-time-prediction.mlflow/#/experiments/0.\n",
      "c:\\Users\\diego\\OneDrive - ITESO\\ITESO\\5 semestre\\Proyecto de Ciencia de datos\\nyc-taxi-time-prediction\\.venv\\Lib\\site-packages\\sklearn\\metrics\\_regression.py:492: FutureWarning: 'squared' is deprecated in version 1.4 and will be removed in 1.6. To calculate the root mean squared error, use the function'root_mean_squared_error'.\n",
      "  warnings.warn(\n",
      "2024/09/23 20:23:43 INFO mlflow.tracking._tracking_service.client: 🏃 View run victorious-zebra-112 at: https://dagshub.com/diego-mercadoc/nyc-taxi-time-prediction.mlflow/#/experiments/0/runs/67054821c56b41d1a1865b7a11109f51.\n",
      "2024/09/23 20:23:43 INFO mlflow.tracking._tracking_service.client: 🧪 View experiment at: https://dagshub.com/diego-mercadoc/nyc-taxi-time-prediction.mlflow/#/experiments/0.\n",
      "c:\\Users\\diego\\OneDrive - ITESO\\ITESO\\5 semestre\\Proyecto de Ciencia de datos\\nyc-taxi-time-prediction\\.venv\\Lib\\site-packages\\sklearn\\metrics\\_regression.py:492: FutureWarning: 'squared' is deprecated in version 1.4 and will be removed in 1.6. To calculate the root mean squared error, use the function'root_mean_squared_error'.\n",
      "  warnings.warn(\n",
      "2024/09/23 20:24:03 INFO mlflow.tracking._tracking_service.client: 🏃 View run auspicious-dove-537 at: https://dagshub.com/diego-mercadoc/nyc-taxi-time-prediction.mlflow/#/experiments/0/runs/5a607a337ad7424bbf522d474b46e311.\n",
      "2024/09/23 20:24:03 INFO mlflow.tracking._tracking_service.client: 🧪 View experiment at: https://dagshub.com/diego-mercadoc/nyc-taxi-time-prediction.mlflow/#/experiments/0.\n",
      "c:\\Users\\diego\\OneDrive - ITESO\\ITESO\\5 semestre\\Proyecto de Ciencia de datos\\nyc-taxi-time-prediction\\.venv\\Lib\\site-packages\\sklearn\\metrics\\_regression.py:492: FutureWarning: 'squared' is deprecated in version 1.4 and will be removed in 1.6. To calculate the root mean squared error, use the function'root_mean_squared_error'.\n",
      "  warnings.warn(\n",
      "2024/09/23 20:24:04 INFO mlflow.tracking._tracking_service.client: 🏃 View run exultant-jay-353 at: https://dagshub.com/diego-mercadoc/nyc-taxi-time-prediction.mlflow/#/experiments/0/runs/3eb46b185fa045899db0196e659d80e0.\n",
      "2024/09/23 20:24:04 INFO mlflow.tracking._tracking_service.client: 🧪 View experiment at: https://dagshub.com/diego-mercadoc/nyc-taxi-time-prediction.mlflow/#/experiments/0.\n",
      "c:\\Users\\diego\\OneDrive - ITESO\\ITESO\\5 semestre\\Proyecto de Ciencia de datos\\nyc-taxi-time-prediction\\.venv\\Lib\\site-packages\\sklearn\\metrics\\_regression.py:492: FutureWarning: 'squared' is deprecated in version 1.4 and will be removed in 1.6. To calculate the root mean squared error, use the function'root_mean_squared_error'.\n",
      "  warnings.warn(\n",
      "2024/09/23 20:24:06 INFO mlflow.tracking._tracking_service.client: 🏃 View run serious-squid-571 at: https://dagshub.com/diego-mercadoc/nyc-taxi-time-prediction.mlflow/#/experiments/0/runs/826458652e2f458ba996ae6e0a48a88d.\n",
      "2024/09/23 20:24:06 INFO mlflow.tracking._tracking_service.client: 🧪 View experiment at: https://dagshub.com/diego-mercadoc/nyc-taxi-time-prediction.mlflow/#/experiments/0.\n",
      "c:\\Users\\diego\\OneDrive - ITESO\\ITESO\\5 semestre\\Proyecto de Ciencia de datos\\nyc-taxi-time-prediction\\.venv\\Lib\\site-packages\\sklearn\\metrics\\_regression.py:492: FutureWarning: 'squared' is deprecated in version 1.4 and will be removed in 1.6. To calculate the root mean squared error, use the function'root_mean_squared_error'.\n",
      "  warnings.warn(\n",
      "2024/09/23 20:24:10 INFO mlflow.tracking._tracking_service.client: 🏃 View run bouncy-skunk-345 at: https://dagshub.com/diego-mercadoc/nyc-taxi-time-prediction.mlflow/#/experiments/0/runs/1232e0093c924a51a0d49ecf42749f8f.\n",
      "2024/09/23 20:24:10 INFO mlflow.tracking._tracking_service.client: 🧪 View experiment at: https://dagshub.com/diego-mercadoc/nyc-taxi-time-prediction.mlflow/#/experiments/0.\n",
      "c:\\Users\\diego\\OneDrive - ITESO\\ITESO\\5 semestre\\Proyecto de Ciencia de datos\\nyc-taxi-time-prediction\\.venv\\Lib\\site-packages\\sklearn\\metrics\\_regression.py:492: FutureWarning: 'squared' is deprecated in version 1.4 and will be removed in 1.6. To calculate the root mean squared error, use the function'root_mean_squared_error'.\n",
      "  warnings.warn(\n",
      "2024/09/23 20:24:23 INFO mlflow.tracking._tracking_service.client: 🏃 View run clumsy-gnat-565 at: https://dagshub.com/diego-mercadoc/nyc-taxi-time-prediction.mlflow/#/experiments/0/runs/1932ccd5f3fb4d6b938ade5a7181c9a5.\n",
      "2024/09/23 20:24:23 INFO mlflow.tracking._tracking_service.client: 🧪 View experiment at: https://dagshub.com/diego-mercadoc/nyc-taxi-time-prediction.mlflow/#/experiments/0.\n",
      "c:\\Users\\diego\\OneDrive - ITESO\\ITESO\\5 semestre\\Proyecto de Ciencia de datos\\nyc-taxi-time-prediction\\.venv\\Lib\\site-packages\\sklearn\\metrics\\_regression.py:492: FutureWarning: 'squared' is deprecated in version 1.4 and will be removed in 1.6. To calculate the root mean squared error, use the function'root_mean_squared_error'.\n",
      "  warnings.warn(\n",
      "2024/09/23 20:24:42 INFO mlflow.tracking._tracking_service.client: 🏃 View run clean-whale-784 at: https://dagshub.com/diego-mercadoc/nyc-taxi-time-prediction.mlflow/#/experiments/0/runs/5b9b4cf68a97433abc7b60df7a687864.\n",
      "2024/09/23 20:24:42 INFO mlflow.tracking._tracking_service.client: 🧪 View experiment at: https://dagshub.com/diego-mercadoc/nyc-taxi-time-prediction.mlflow/#/experiments/0.\n",
      "2024/09/23 20:24:45 WARNING mlflow.models.model: Model logged without a signature and input example. Please set `input_example` parameter when logging the model to auto infer the model signature.\n",
      "2024/09/23 20:24:53 INFO mlflow.tracking._tracking_service.client: 🏃 View run RandomForestRegressor at: https://dagshub.com/diego-mercadoc/nyc-taxi-time-prediction.mlflow/#/experiments/0/runs/c1a7265af56a4e4e9cd6122d0d737bf5.\n",
      "2024/09/23 20:24:53 INFO mlflow.tracking._tracking_service.client: 🧪 View experiment at: https://dagshub.com/diego-mercadoc/nyc-taxi-time-prediction.mlflow/#/experiments/0.\n"
     ]
    }
   ],
   "source": [
    "# Entrenar los modelos\n",
    "rmse_gbr, run_id_gbr = train_gradient_boosting(X_train, y_train, X_val, y_val, dv)\n",
    "rmse_rfr, run_id_rfr = train_random_forest(X_train, y_train, X_val, y_val, dv)"
   ]
  },
  {
   "cell_type": "code",
   "execution_count": 11,
   "id": "c6a61f3b",
   "metadata": {},
   "outputs": [
    {
     "name": "stdout",
     "output_type": "stream",
     "text": [
      "RMSE GradientBoostingRegressor: 5.335801232635329\n",
      "RMSE RandomForestRegressor: 5.424365799496919\n"
     ]
    }
   ],
   "source": [
    "# Imprimir los RMSE obtenidos\n",
    "print(f\"RMSE GradientBoostingRegressor: {rmse_gbr}\")\n",
    "print(f\"RMSE RandomForestRegressor: {rmse_rfr}\")"
   ]
  },
  {
   "cell_type": "code",
   "execution_count": 12,
   "id": "7a41e193",
   "metadata": {},
   "outputs": [
    {
     "name": "stdout",
     "output_type": "stream",
     "text": [
      "Mejor modelo: GradientBoostingRegressor con RMSE: 5.335801232635329\n"
     ]
    }
   ],
   "source": [
    "# Determinar el mejor modelo\n",
    "if rmse_gbr < rmse_rfr:\n",
    "    best_rmse = rmse_gbr\n",
    "    best_model_name = \"GradientBoostingRegressor\"\n",
    "    best_run_id = run_id_gbr\n",
    "else:\n",
    "    best_rmse = rmse_rfr\n",
    "    best_model_name = \"RandomForestRegressor\"\n",
    "    best_run_id = run_id_rfr\n",
    "\n",
    "print(f\"Mejor modelo: {best_model_name} con RMSE: {best_rmse}\")"
   ]
  },
  {
   "cell_type": "markdown",
   "id": "a6c4c5d3",
   "metadata": {},
   "source": [
    "### Registrar el mejor modelo en MLflow y asignar el alias 'challenger'"
   ]
  },
  {
   "cell_type": "code",
   "execution_count": 13,
   "id": "a25b352e",
   "metadata": {},
   "outputs": [
    {
     "name": "stderr",
     "output_type": "stream",
     "text": [
      "Registered model 'nyc-taxi-model' already exists. Creating a new version of this model...\n",
      "2024/09/23 20:24:54 INFO mlflow.store.model_registry.abstract_store: Waiting up to 300 seconds for model version to finish creation. Model name: nyc-taxi-model, version 4\n",
      "Created version '4' of model 'nyc-taxi-model'.\n"
     ]
    }
   ],
   "source": [
    "# Registrar el nuevo modelo\n",
    "result = mlflow.register_model(\n",
    "    model_uri=f\"runs:/{best_run_id}/model\",\n",
    "    name=\"nyc-taxi-model\"\n",
    ")\n",
    "\n",
    "client = MlflowClient(tracking_uri=MLFLOW_TRACKING_URI)\n",
    "client.update_registered_model(\n",
    "    name=\"nyc-taxi-model\",\n",
    "    description=\"Modelo para predecir la duración de viajes en taxi en Nueva York\"\n",
    ")\n",
    "\n",
    "new_version = result.version\n",
    "\n",
    "# Asignar el alias 'challenger' al nuevo modelo\n",
    "client.set_registered_model_alias(\n",
    "    name=\"nyc-taxi-model\",\n",
    "    alias=\"challenger\",\n",
    "    version=new_version\n",
    ")"
   ]
  },
  {
   "cell_type": "markdown",
   "id": "246470e0",
   "metadata": {},
   "source": [
    "#### Descargar el conjunto de datos de marzo de 2024"
   ]
  },
  {
   "cell_type": "code",
   "execution_count": 14,
   "id": "43626be3",
   "metadata": {},
   "outputs": [
    {
     "name": "stderr",
     "output_type": "stream",
     "text": [
      "  % Total    % Received % Xferd  Average Speed   Time    Time     Time  Current\n",
      "                                 Dload  Upload   Total   Spent    Left  Speed\n",
      "\n",
      "  0     0    0     0    0     0      0      0 --:--:-- --:--:-- --:--:--     0\n",
      "  0     0    0     0    0     0      0      0 --:--:-- --:--:-- --:--:--     0\n",
      "100 1340k  100 1340k    0     0  2427k      0 --:--:-- --:--:-- --:--:-- 2432k\n"
     ]
    }
   ],
   "source": [
    "# Descargar los datos de marzo de 2024\n",
    "!curl -o ../data/green_tripdata_2024-03.parquet https://d37ci6vzurychx.cloudfront.net/trip-data/green_tripdata_2024-03.parquet"
   ]
  },
  {
   "cell_type": "markdown",
   "id": "c5f0b4c3",
   "metadata": {},
   "source": [
    "### Cargar los modelos 'champion' y 'challenger'"
   ]
  },
  {
   "cell_type": "code",
   "execution_count": 15,
   "id": "9e1f6eac",
   "metadata": {},
   "outputs": [
    {
     "data": {
      "application/vnd.jupyter.widget-view+json": {
       "model_id": "028ce062442442e0bccbb119be8aef62",
       "version_major": 2,
       "version_minor": 0
      },
      "text/plain": [
       "Downloading artifacts:   0%|          | 0/5 [00:00<?, ?it/s]"
      ]
     },
     "metadata": {},
     "output_type": "display_data"
    },
    {
     "name": "stderr",
     "output_type": "stream",
     "text": [
      "2024/09/23 20:24:56 WARNING mlflow.utils.requirements_utils: Detected one or more mismatches between the model's dependencies and the current Python environment:\n",
      " - scikit-learn (current: 1.5.1, required: scikit-learn==1.5.2)\n",
      "To fix the mismatches, call `mlflow.pyfunc.get_model_dependencies(model_uri)` to fetch the model's environment and install dependencies using the resulting environment file.\n"
     ]
    },
    {
     "data": {
      "application/vnd.jupyter.widget-view+json": {
       "model_id": "e8bb5f25abfd4c47bcb1835719076c75",
       "version_major": 2,
       "version_minor": 0
      },
      "text/plain": [
       "Downloading artifacts:   0%|          | 0/5 [00:00<?, ?it/s]"
      ]
     },
     "metadata": {},
     "output_type": "display_data"
    }
   ],
   "source": [
    "champion_model = mlflow.pyfunc.load_model(model_uri=\"models:/nyc-taxi-model@champion\")\n",
    "challenger_model = mlflow.pyfunc.load_model(model_uri=f\"models:/nyc-taxi-model/{new_version}\")"
   ]
  },
  {
   "cell_type": "markdown",
   "id": "e5945851",
   "metadata": {},
   "source": [
    "### Evaluar ambos modelos en el conjunto de prueba"
   ]
  },
  {
   "cell_type": "code",
   "execution_count": 16,
   "id": "62e433da",
   "metadata": {},
   "outputs": [],
   "source": [
    "# Leer el conjunto de prueba\n",
    "df_test = read_dataframe('../data/green_tripdata_2024-03.parquet')"
   ]
  },
  {
   "cell_type": "code",
   "execution_count": 17,
   "id": "c5947e4f",
   "metadata": {},
   "outputs": [],
   "source": [
    "# Preparar los datos de prueba\n",
    "def prepare_test_data(df_test, dv):\n",
    "    df_test['PU_DO'] = df_test['PULocationID'] + '_' + df_test['DOLocationID']\n",
    "    categorical = ['PU_DO']\n",
    "    numerical = ['trip_distance']\n",
    "\n",
    "    test_dicts = df_test[categorical + numerical].to_dict(orient='records')\n",
    "    X_test = dv.transform(test_dicts)\n",
    "    y_test = df_test['duration'].values\n",
    "\n",
    "    return X_test, y_test"
   ]
  },
  {
   "cell_type": "code",
   "execution_count": 18,
   "id": "9a06f108",
   "metadata": {},
   "outputs": [],
   "source": [
    "# Obtener X_test y y_test\n",
    "X_test, y_test = prepare_test_data(df_test, dv)"
   ]
  },
  {
   "cell_type": "code",
   "execution_count": 19,
   "id": "8037e989",
   "metadata": {},
   "outputs": [
    {
     "name": "stdout",
     "output_type": "stream",
     "text": [
      "Tiempo de ejecución del modelo champion: 0:00:00.174926\n",
      "RMSE Champion: 5.204890632355449\n"
     ]
    },
    {
     "name": "stderr",
     "output_type": "stream",
     "text": [
      "c:\\Users\\diego\\OneDrive - ITESO\\ITESO\\5 semestre\\Proyecto de Ciencia de datos\\nyc-taxi-time-prediction\\.venv\\Lib\\site-packages\\sklearn\\metrics\\_regression.py:492: FutureWarning: 'squared' is deprecated in version 1.4 and will be removed in 1.6. To calculate the root mean squared error, use the function'root_mean_squared_error'.\n",
      "  warnings.warn(\n"
     ]
    }
   ],
   "source": [
    "# Evaluar el modelo champion\n",
    "start_time = datetime.now()\n",
    "\n",
    "y_pred_champion = champion_model.predict(X_test)\n",
    "rmse_champion = mean_squared_error(y_test, y_pred_champion, squared=False)\n",
    "end_time = datetime.now()\n",
    "\n",
    "champion_time = end_time - start_time\n",
    "\n",
    "print(f\"Tiempo de ejecución del modelo champion: {champion_time}\")\n",
    "print(f\"RMSE Champion: {rmse_champion}\")"
   ]
  },
  {
   "cell_type": "code",
   "execution_count": 20,
   "id": "283ff555",
   "metadata": {},
   "outputs": [
    {
     "name": "stdout",
     "output_type": "stream",
     "text": [
      "Tiempo de ejecución del modelo challenger: 0:00:00.154118\n",
      "RMSE Challenger: 5.369724023676936\n"
     ]
    },
    {
     "name": "stderr",
     "output_type": "stream",
     "text": [
      "c:\\Users\\diego\\OneDrive - ITESO\\ITESO\\5 semestre\\Proyecto de Ciencia de datos\\nyc-taxi-time-prediction\\.venv\\Lib\\site-packages\\sklearn\\metrics\\_regression.py:492: FutureWarning: 'squared' is deprecated in version 1.4 and will be removed in 1.6. To calculate the root mean squared error, use the function'root_mean_squared_error'.\n",
      "  warnings.warn(\n"
     ]
    }
   ],
   "source": [
    "# Evaluar el modelo challenger\n",
    "start_time = datetime.now()\n",
    "\n",
    "y_pred_challenger = challenger_model.predict(X_test)\n",
    "rmse_challenger = mean_squared_error(y_test, y_pred_challenger, squared=False)\n",
    "end_time = datetime.now()\n",
    "\n",
    "challenger_time = end_time - start_time\n",
    "\n",
    "print(f\"Tiempo de ejecución del modelo challenger: {challenger_time}\")\n",
    "print(f\"RMSE Challenger: {rmse_challenger}\")"
   ]
  },
  {
   "cell_type": "markdown",
   "id": "367a9e3c",
   "metadata": {},
   "source": [
    "### Decidir si promover el modelo 'challenger' a 'champion'"
   ]
  },
  {
   "cell_type": "code",
   "execution_count": 21,
   "id": "8a77cdb0",
   "metadata": {},
   "outputs": [
    {
     "name": "stdout",
     "output_type": "stream",
     "text": [
      "El modelo 'challenger' no superó al 'champion' y no será promovido.\n"
     ]
    }
   ],
   "source": [
    "if rmse_challenger < rmse_champion:\n",
    "    # Promover challenger a champion\n",
    "    client.set_registered_model_alias(\n",
    "        name=\"nyc-taxi-model\",\n",
    "        alias=\"champion\",\n",
    "        version=new_version\n",
    "    )\n",
    "    print(\"El modelo 'challenger' ha sido promovido a 'champion'.\")\n",
    "else:\n",
    "    print(\"El modelo 'challenger' no superó al 'champion' y no será promovido.\")"
   ]
  },
  {
   "cell_type": "code",
   "execution_count": 24,
   "metadata": {},
   "outputs": [
    {
     "data": {
      "text/markdown": [
       "\n",
       "# Análisis para Decidir la Promoción del Modelo Challenger\n",
       "\n",
       "### Resultados Obtenidos:\n",
       "\n",
       "- **RMSE del Modelo Champion**: **5.2049**\n",
       "- **RMSE del Modelo Challenger**: **5.3697**\n",
       "- **Tiempo de Inferencia del Modelo Champion**: **0:00:00.174926**\n",
       "- **Tiempo de Inferencia del Modelo Challenger**: **0:00:00.154118**\n",
       "\n",
       "---\n",
       "\n",
       "### 1. Rendimiento (RMSE):\n",
       "\n",
       "- El **modelo champion** tiene un RMSE menor que el **modelo challenger**, indicando una mejor precisión en las predicciones.\n",
       "- La diferencia en RMSE es de aproximadamente **0.1648**.\n",
       "\n",
       "**Conclusión:** En términos de precisión, el **modelo champion** es superior.\n",
       "\n",
       "---\n",
       "\n",
       "### 2. Tiempo de Inferencia:\n",
       "\n",
       "- El **modelo challenger** es más rápido en tiempo de inferencia.\n",
       "- La diferencia en tiempo es de aproximadamente **0.0208 segundos**.\n",
       "\n",
       "**Análisis:**\n",
       "\n",
       "- La mejora en tiempo de inferencia es mínima y puede no justificar una menor precisión.\n",
       "\n",
       "**Conclusión:** El **modelo champion** sigue siendo preferible por su mejor precisión.\n",
       "\n",
       "---\n",
       "\n",
       "### Decisión Final:\n",
       "\n",
       "**No se recomienda promover el modelo 'challenger' a 'champion' en este momento.**\n",
       "\n",
       "---\n",
       "\n",
       "### Justificación:\n",
       "\n",
       "- **Mayor Precisión del Champion:** Ofrece predicciones más exactas.\n",
       "- **Diferencia de Tiempo Mínima:** La mejora en tiempo de inferencia del 'challenger' es mínima y no compensa la pérdida de precisión.\n",
       "- **Riesgos Asociados:** Cambiar el modelo podría introducir riesgos sin beneficios significativos.\n",
       "\n",
       "---\n",
       "\n",
       "### Acciones Recomendadas:\n",
       "\n",
       "- **Optimización Continua:** Explorar otras técnicas o ajustar hiperparámetros para mejorar futuros modelos 'challenger'.\n",
       "- **Monitoreo Constante:** Observar el desempeño de ambos modelos, ya que cambios en los datos podrían alterar su rendimiento.\n",
       "- **Consulta con el Negocio:** Confirmar si los requerimientos podrían cambiar, haciendo que la velocidad sea más importante.\n"
      ],
      "text/plain": [
       "<IPython.core.display.Markdown object>"
      ]
     },
     "execution_count": 24,
     "metadata": {},
     "output_type": "execute_result"
    }
   ],
   "source": [
    "from IPython.display import Markdown as md\n",
    "\n",
    "md(f\"\"\"\n",
    "# Análisis para Decidir la Promoción del Modelo Challenger\n",
    "\n",
    "### Resultados Obtenidos:\n",
    "\n",
    "- **RMSE del Modelo Champion**: **{rmse_champion:.4f}**\n",
    "- **RMSE del Modelo Challenger**: **{rmse_challenger:.4f}**\n",
    "- **Tiempo de Inferencia del Modelo Champion**: **{champion_time}**\n",
    "- **Tiempo de Inferencia del Modelo Challenger**: **{challenger_time}**\n",
    "\n",
    "---\n",
    "\n",
    "### 1. Rendimiento (RMSE):\n",
    "\n",
    "- El **modelo champion** tiene un RMSE menor que el **modelo challenger**, indicando una mejor precisión en las predicciones.\n",
    "- La diferencia en RMSE es de aproximadamente **{abs(rmse_champion - rmse_challenger):.4f}**.\n",
    "\n",
    "**Conclusión:** En términos de precisión, el **modelo champion** es superior.\n",
    "\n",
    "---\n",
    "\n",
    "### 2. Tiempo de Inferencia:\n",
    "\n",
    "- El **modelo challenger** es más rápido en tiempo de inferencia.\n",
    "- La diferencia en tiempo es de aproximadamente **{(champion_time - challenger_time).total_seconds():.4f} segundos**.\n",
    "\n",
    "**Análisis:**\n",
    "\n",
    "- La mejora en tiempo de inferencia es mínima y puede no justificar una menor precisión.\n",
    "\n",
    "**Conclusión:** El **modelo champion** sigue siendo preferible por su mejor precisión.\n",
    "\n",
    "---\n",
    "\n",
    "### Decisión Final:\n",
    "\n",
    "**No se recomienda promover el modelo 'challenger' a 'champion' en este momento.**\n",
    "\n",
    "---\n",
    "\n",
    "### Justificación:\n",
    "\n",
    "- **Mayor Precisión del Champion:** Ofrece predicciones más exactas.\n",
    "- **Diferencia de Tiempo Mínima:** La mejora en tiempo de inferencia del 'challenger' es mínima y no compensa la pérdida de precisión.\n",
    "- **Riesgos Asociados:** Cambiar el modelo podría introducir riesgos sin beneficios significativos.\n",
    "\n",
    "---\n",
    "\n",
    "### Acciones Recomendadas:\n",
    "\n",
    "- **Optimización Continua:** Explorar otras técnicas o ajustar hiperparámetros para mejorar futuros modelos 'challenger'.\n",
    "- **Monitoreo Constante:** Observar el desempeño de ambos modelos, ya que cambios en los datos podrían alterar su rendimiento.\n",
    "- **Consulta con el Negocio:** Confirmar si los requerimientos podrían cambiar, haciendo que la velocidad sea más importante.\n",
    "\"\"\")"
   ]
  }
 ],
 "metadata": {
  "kernelspec": {
   "display_name": ".venv",
   "language": "python",
   "name": "python3"
  },
  "language_info": {
   "codemirror_mode": {
    "name": "ipython",
    "version": 3
   },
   "file_extension": ".py",
   "mimetype": "text/x-python",
   "name": "python",
   "nbconvert_exporter": "python",
   "pygments_lexer": "ipython3",
   "version": "3.11.8"
  }
 },
 "nbformat": 4,
 "nbformat_minor": 2
}
